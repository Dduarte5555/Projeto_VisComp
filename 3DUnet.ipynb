{
  "cells": [
    {
      "cell_type": "code",
      "source": [
        "#Para adicionar o seu google drive à instancia para adicionar o dataset que vai ser usado para o treinamento\n",
        "#from google.colab import drive\n",
        "#drive.mount('/content/drive')"
      ],
      "metadata": {
        "id": "DftWYOSytnR-"
      },
      "execution_count": null,
      "outputs": []
    },
    {
      "cell_type": "code",
      "source": [
        "#Para copiar o dataset do drive para o disco da instancia (leitura/escrita no drive dura seculos)\n",
        "#!cp /content/drive/MyDrive/dataset.zip dataset.zip"
      ],
      "metadata": {
        "id": "LtMVbD1Jv1UY"
      },
      "execution_count": null,
      "outputs": []
    },
    {
      "cell_type": "code",
      "source": [
        "#Para deszipar o conteudo caso ele nao esteja na instancia\n",
        "#!unzip dataset.zip"
      ],
      "metadata": {
        "id": "o3YNYwvWRQ0w"
      },
      "execution_count": null,
      "outputs": []
    },
    {
      "cell_type": "code",
      "execution_count": null,
      "metadata": {
        "id": "_NO5zXt_Lv6Y",
        "colab": {
          "base_uri": "https://localhost:8080/"
        },
        "outputId": "1510aca3-54e4-4f28-b486-9b4e6839622a"
      },
      "outputs": [
        {
          "output_type": "stream",
          "name": "stdout",
          "text": [
            "Requirement already satisfied: classification-models-3D in /usr/local/lib/python3.11/dist-packages (1.1.0)\n",
            "Requirement already satisfied: efficientnet-3D in /usr/local/lib/python3.11/dist-packages (1.0.2)\n",
            "^C\n",
            "Requirement already satisfied: segmentation-models-3D in /usr/local/lib/python3.11/dist-packages (1.1.1)\n",
            "Requirement already satisfied: keras==3.3.3 in /usr/local/lib/python3.11/dist-packages (from segmentation-models-3D) (3.3.3)\n",
            "Requirement already satisfied: classification-models-3D==1.1.0 in /usr/local/lib/python3.11/dist-packages (from segmentation-models-3D) (1.1.0)\n",
            "Requirement already satisfied: absl-py in /usr/local/lib/python3.11/dist-packages (from keras==3.3.3->segmentation-models-3D) (1.4.0)\n",
            "Requirement already satisfied: numpy in /usr/local/lib/python3.11/dist-packages (from keras==3.3.3->segmentation-models-3D) (1.26.4)\n",
            "Requirement already satisfied: rich in /usr/local/lib/python3.11/dist-packages (from keras==3.3.3->segmentation-models-3D) (13.9.4)\n",
            "Requirement already satisfied: namex in /usr/local/lib/python3.11/dist-packages (from keras==3.3.3->segmentation-models-3D) (0.0.9)\n",
            "Requirement already satisfied: h5py in /usr/local/lib/python3.11/dist-packages (from keras==3.3.3->segmentation-models-3D) (3.13.0)\n",
            "Requirement already satisfied: optree in /usr/local/lib/python3.11/dist-packages (from keras==3.3.3->segmentation-models-3D) (0.15.0)\n",
            "Requirement already satisfied: ml-dtypes in /usr/local/lib/python3.11/dist-packages (from keras==3.3.3->segmentation-models-3D) (0.4.1)\n",
            "Requirement already satisfied: typing-extensions>=4.5.0 in /usr/local/lib/python3.11/dist-packages (from optree->keras==3.3.3->segmentation-models-3D) (4.13.2)\n",
            "Requirement already satisfied: markdown-it-py>=2.2.0 in /usr/local/lib/python3.11/dist-packages (from rich->keras==3.3.3->segmentation-models-3D) (3.0.0)\n",
            "Requirement already satisfied: pygments<3.0.0,>=2.13.0 in /usr/local/lib/python3.11/dist-packages (from rich->keras==3.3.3->segmentation-models-3D) (2.19.1)\n",
            "Requirement already satisfied: mdurl~=0.1 in /usr/local/lib/python3.11/dist-packages (from markdown-it-py>=2.2.0->rich->keras==3.3.3->segmentation-models-3D) (0.1.2)\n",
            "Requirement already satisfied: scikit-image in /usr/local/lib/python3.11/dist-packages (0.25.2)\n",
            "Requirement already satisfied: numpy>=1.24 in /usr/local/lib/python3.11/dist-packages (from scikit-image) (1.26.4)\n",
            "Requirement already satisfied: scipy>=1.11.4 in /usr/local/lib/python3.11/dist-packages (from scikit-image) (1.15.3)\n",
            "Requirement already satisfied: networkx>=3.0 in /usr/local/lib/python3.11/dist-packages (from scikit-image) (3.4.2)\n",
            "Requirement already satisfied: pillow>=10.1 in /usr/local/lib/python3.11/dist-packages (from scikit-image) (11.2.1)\n",
            "Requirement already satisfied: imageio!=2.35.0,>=2.33 in /usr/local/lib/python3.11/dist-packages (from scikit-image) (2.37.0)\n",
            "Requirement already satisfied: tifffile>=2022.8.12 in /usr/local/lib/python3.11/dist-packages (from scikit-image) (2025.5.10)\n",
            "Requirement already satisfied: packaging>=21 in /usr/local/lib/python3.11/dist-packages (from scikit-image) (24.2)\n",
            "Requirement already satisfied: lazy-loader>=0.4 in /usr/local/lib/python3.11/dist-packages (from scikit-image) (0.4)\n",
            "Requirement already satisfied: matplotlib in /usr/local/lib/python3.11/dist-packages (3.10.0)\n",
            "Requirement already satisfied: contourpy>=1.0.1 in /usr/local/lib/python3.11/dist-packages (from matplotlib) (1.3.2)\n",
            "Requirement already satisfied: cycler>=0.10 in /usr/local/lib/python3.11/dist-packages (from matplotlib) (0.12.1)\n",
            "Requirement already satisfied: fonttools>=4.22.0 in /usr/local/lib/python3.11/dist-packages (from matplotlib) (4.58.0)\n",
            "Requirement already satisfied: kiwisolver>=1.3.1 in /usr/local/lib/python3.11/dist-packages (from matplotlib) (1.4.8)\n",
            "Requirement already satisfied: numpy>=1.23 in /usr/local/lib/python3.11/dist-packages (from matplotlib) (1.26.4)\n",
            "Requirement already satisfied: packaging>=20.0 in /usr/local/lib/python3.11/dist-packages (from matplotlib) (24.2)\n",
            "Requirement already satisfied: pillow>=8 in /usr/local/lib/python3.11/dist-packages (from matplotlib) (11.2.1)\n",
            "Requirement already satisfied: pyparsing>=2.3.1 in /usr/local/lib/python3.11/dist-packages (from matplotlib) (3.2.3)\n",
            "Requirement already satisfied: python-dateutil>=2.7 in /usr/local/lib/python3.11/dist-packages (from matplotlib) (2.9.0.post0)\n",
            "Requirement already satisfied: six>=1.5 in /usr/local/lib/python3.11/dist-packages (from python-dateutil>=2.7->matplotlib) (1.17.0)\n",
            "Requirement already satisfied: scikit-learn in /usr/local/lib/python3.11/dist-packages (1.6.1)\n",
            "Requirement already satisfied: numpy>=1.19.5 in /usr/local/lib/python3.11/dist-packages (from scikit-learn) (1.26.4)\n",
            "Requirement already satisfied: scipy>=1.6.0 in /usr/local/lib/python3.11/dist-packages (from scikit-learn) (1.15.3)\n",
            "Requirement already satisfied: joblib>=1.2.0 in /usr/local/lib/python3.11/dist-packages (from scikit-learn) (1.5.0)\n",
            "Requirement already satisfied: threadpoolctl>=3.1.0 in /usr/local/lib/python3.11/dist-packages (from scikit-learn) (3.6.0)\n",
            "Requirement already satisfied: nibabel in /usr/local/lib/python3.11/dist-packages (5.3.2)\n",
            "Requirement already satisfied: importlib-resources>=5.12 in /usr/local/lib/python3.11/dist-packages (from nibabel) (6.5.2)\n",
            "Requirement already satisfied: numpy>=1.22 in /usr/local/lib/python3.11/dist-packages (from nibabel) (1.26.4)\n",
            "Requirement already satisfied: packaging>=20 in /usr/local/lib/python3.11/dist-packages (from nibabel) (24.2)\n",
            "Requirement already satisfied: typing-extensions>=4.6 in /usr/local/lib/python3.11/dist-packages (from nibabel) (4.13.2)\n",
            "Requirement already satisfied: patchify in /usr/local/lib/python3.11/dist-packages (0.2.3)\n",
            "Requirement already satisfied: numpy<2,>=1 in /usr/local/lib/python3.11/dist-packages (from patchify) (1.26.4)\n"
          ]
        }
      ],
      "source": [
        "#Install all dependencies for sgementation-models-3D library.\n",
        "#We will use this library to call 3D unet.\n",
        "#Alternative, you can define your own Unet, if you have skills!\n",
        "!pip install classification-models-3D\n",
        "!pip install efficientnet-3D\n",
        "!pip install segmentation-models-3D\n",
        "!pip install scikit-image\n",
        "!pip install matplotlib\n",
        "!pip install scikit-learn\n",
        "!pip install nibabel\n",
        "!pip install patchify"
      ]
    },
    {
      "cell_type": "code",
      "execution_count": null,
      "metadata": {
        "id": "foXdS4Uil4WP",
        "tags": [],
        "colab": {
          "base_uri": "https://localhost:8080/"
        },
        "outputId": "22602221-875a-41ed-f6c3-e5719303506a"
      },
      "outputs": [
        {
          "output_type": "stream",
          "name": "stdout",
          "text": [
            "2.18.0\n",
            "3.3.3\n"
          ]
        }
      ],
      "source": [
        "import tensorflow as tf\n",
        "import keras\n",
        "print(tf.__version__)\n",
        "print(keras.__version__)"
      ]
    },
    {
      "cell_type": "code",
      "execution_count": null,
      "metadata": {
        "id": "45aZsgManbdG",
        "tags": [],
        "colab": {
          "base_uri": "https://localhost:8080/"
        },
        "outputId": "2c79860c-5b3e-46da-e9c0-40ccb5ee9f43"
      },
      "outputs": [
        {
          "output_type": "stream",
          "name": "stdout",
          "text": [
            "Found GPU at: /device:GPU:0\n"
          ]
        }
      ],
      "source": [
        "#Make sure the GPU is available.\n",
        "import tensorflow as tf\n",
        "device_name = tf.test.gpu_device_name()\n",
        "if device_name != '/device:GPU:0':\n",
        "  raise SystemError('GPU device not found')\n",
        "print('Found GPU at: {}'.format(device_name))"
      ]
    },
    {
      "cell_type": "code",
      "execution_count": null,
      "metadata": {
        "id": "Dr4Is2DRMMer",
        "colab": {
          "base_uri": "https://localhost:8080/"
        },
        "outputId": "2bdbdf41-401b-47b5-abdb-e0cc24c24229"
      },
      "outputs": [
        {
          "output_type": "stream",
          "name": "stdout",
          "text": [
            "Segmentation Models: using `keras` framework.\n"
          ]
        }
      ],
      "source": [
        "import segmentation_models_3D as sm\n"
      ]
    },
    {
      "cell_type": "code",
      "execution_count": null,
      "metadata": {
        "id": "d7hKivzw-0V9"
      },
      "outputs": [],
      "source": [
        "from skimage import io\n",
        "from patchify import patchify, unpatchify\n",
        "import numpy as np\n",
        "from matplotlib import pyplot as plt\n",
        "from keras import backend as K\n",
        "from keras.utils import to_categorical\n",
        "from sklearn.model_selection import train_test_split\n",
        "import nibabel as nib\n",
        "import os\n",
        "from pathlib import Path"
      ]
    },
    {
      "cell_type": "code",
      "execution_count": null,
      "metadata": {
        "id": "ItSwiG5sQjci"
      },
      "outputs": [],
      "source": [
        "def load_and_patch_images_masks(\n",
        "    images_input_dir: str,\n",
        "    masks_input_dir: str, # New parameter for the masks directory\n",
        "    image_marker_segment: str = \"_DCE_0002_N3_zscored.nii.gz\",\n",
        "    mask_filename_transform: tuple = (\"_DCE_0002_N3_zscored.nii.gz\", \".nii.gz\"),\n",
        "    patch_size: tuple = (64, 64, 64),\n",
        "    step_size: int = 64\n",
        ") -> list[tuple[np.ndarray, np.ndarray]]:\n",
        "    \"\"\"\n",
        "    Reads image files with a specific suffix from an images directory,\n",
        "    finds their matching masks in a separate masks directory, loads them,\n",
        "    checks for shape consistency, creates patches, and returns pairs of\n",
        "    image and mask patches.\n",
        "\n",
        "    Args:\n",
        "        images_input_dir (str): Path to the directory containing image files.\n",
        "        masks_input_dir (str): Path to the directory containing mask files.\n",
        "        image_suffix (str): The suffix to identify image files (e.g., \"_DCE_0002.nii.gz\").\n",
        "        mask_filename_transform (tuple): A tuple where the first element is the part of\n",
        "                                         the image filename to be replaced, and the second\n",
        "                                         is what it should be replaced with to get the\n",
        "                                         mask filename.\n",
        "        patch_size (tuple): The size of the patches (depth, height, width).\n",
        "        step_size (int): The step size for patch extraction.\n",
        "\n",
        "    Returns:\n",
        "        list[tuple[np.ndarray, np.ndarray]]: A list of tuples, where each tuple\n",
        "                                             contains (image_patches, mask_patches).\n",
        "                                             Returns an empty list if no valid pairs\n",
        "                                             are found or errors occur.\n",
        "    \"\"\"\n",
        "    collected_image_patches = []\n",
        "    collected_mask_patches = []\n",
        "\n",
        "    images_dir = Path(images_input_dir)\n",
        "    masks_dir = Path(masks_input_dir)\n",
        "\n",
        "    if not images_dir.is_dir():\n",
        "        print(f\"Error: Images directory not found at {images_input_dir}\")\n",
        "        return [], []\n",
        "    if not masks_dir.is_dir():\n",
        "        print(f\"Error: Masks directory not found at {masks_input_dir}\")\n",
        "        return [], []\n",
        "\n",
        "    print(f\"Scanning for images in: {images_dir.resolve()}\")\n",
        "    print(f\"Looking for masks in: {masks_dir.resolve()}\")\n",
        "    print(f\"Using image marker segment: '{image_marker_segment}'\")\n",
        "\n",
        "    for image_item_path in images_dir.iterdir():\n",
        "        image_filename = image_item_path.name\n",
        "        if image_item_path.is_file() and image_marker_segment in image_filename and image_filename.endswith(\".nii.gz\"):\n",
        "\n",
        "            parts = image_filename.split(image_marker_segment)\n",
        "            if not parts or len(parts[0]) == 0:\n",
        "                print(f\"Warning: Could not derive base name from {image_filename} using marker '{image_marker_segment}'. Skipping.\")\n",
        "                continue\n",
        "\n",
        "            mask_base_name = parts[0]\n",
        "            mask_file_name = f\"{mask_base_name}.nii.gz\"\n",
        "            mask_file_path = masks_dir / mask_file_name\n",
        "\n",
        "            if not mask_file_path.exists():\n",
        "                print(f\"Warning: Mask file {mask_file_path} (derived for image {image_filename}) not found. Skipping.\")\n",
        "                continue\n",
        "\n",
        "            try:\n",
        "                #print(f\"Processing image: {image_filename}\")\n",
        "                image_nib = nib.load(str(image_item_path))\n",
        "                image_data = image_nib.get_fdata()\n",
        "\n",
        "                #print(f\"Processing mask: {mask_file_path.name}\")\n",
        "                mask_nib = nib.load(str(mask_file_path))\n",
        "                mask_data = mask_nib.get_fdata()\n",
        "\n",
        "                if image_data.shape != mask_data.shape:\n",
        "                    print(f\"Warning: Shape mismatch for {image_filename} ({image_data.shape}) and {mask_file_path.name} ({mask_data.shape}). Skipping.\")\n",
        "                    continue\n",
        "\n",
        "                print(f\"Shapes match: Image={image_data.shape}, Mask={mask_data.shape}\")\n",
        "\n",
        "                if len(image_data.shape) < len(patch_size) or len(mask_data.shape) < len(patch_size):\n",
        "                    print(f\"Warning: Data dimension ({image_data.shape}) is less than patch dimension ({patch_size}) for {image_filename}. Skipping.\")\n",
        "                    continue\n",
        "\n",
        "                img_patches = patchify(image_data, patch_size, step=step_size)\n",
        "                mask_patches = patchify(mask_data, patch_size, step=step_size)\n",
        "\n",
        "                #print(f\"Generated image patches shape: {img_patches.shape}\")\n",
        "                #print(f\"Generated mask patches shape: {mask_patches.shape}\")\n",
        "\n",
        "                collected_image_patches.append(img_patches)\n",
        "                collected_mask_patches.append(mask_patches)\n",
        "\n",
        "            except FileNotFoundError:\n",
        "                print(f\"Error: File not found during loading for {image_filename} or {mask_file_path.name}. Skipping.\")\n",
        "            except nib.filebasedimages.ImageFileError as e:\n",
        "                print(f\"Error loading NIfTI file for {image_filename} or {mask_file_path.name}: {e}. Skipping.\")\n",
        "            except Exception as e:\n",
        "                print(f\"An unexpected error occurred while processing {image_filename} and {mask_file_path.name}: {e}. Skipping.\")\n",
        "\n",
        "    if not collected_image_patches: # Check if any images were processed\n",
        "        print(\"No image-mask pairs were successfully processed and patched. Returning empty lists.\")\n",
        "\n",
        "    print(f\"Finished loading {len(collected_image_patches)} images and {len(collected_mask_patches)} masks\")\n",
        "    return collected_image_patches, collected_mask_patches"
      ]
    },
    {
      "cell_type": "code",
      "execution_count": null,
      "metadata": {
        "id": "HWZiqrMK-kVb",
        "colab": {
          "base_uri": "https://localhost:8080/"
        },
        "outputId": "4f078100-6ffb-4006-a821-a44bf0874e80"
      },
      "outputs": [
        {
          "output_type": "stream",
          "name": "stdout",
          "text": [
            "(180, 180, 147)\n",
            "(2, 2, 2, 64, 64, 64)\n",
            "(180, 180, 147)\n",
            "(2, 2, 2, 64, 64, 64)\n",
            "Scanning for images in: /content/dataset/Images\n",
            "Looking for masks in: /content/dataset/Masks\n",
            "Using image marker segment: '_DCE_0002_N3_zscored.nii.gz'\n",
            "Shapes match: Image=(180, 180, 155), Mask=(180, 180, 155)\n",
            "Shapes match: Image=(210, 210, 120), Mask=(210, 210, 120)\n",
            "Shapes match: Image=(220, 220, 120), Mask=(220, 220, 120)\n",
            "Shapes match: Image=(270, 270, 120), Mask=(270, 270, 120)\n",
            "Shapes match: Image=(220, 220, 156), Mask=(220, 220, 156)\n",
            "Shapes match: Image=(250, 250, 138), Mask=(250, 250, 138)\n",
            "Shapes match: Image=(200, 200, 132), Mask=(200, 200, 132)\n",
            "Shapes match: Image=(180, 180, 128), Mask=(180, 180, 128)\n",
            "Shapes match: Image=(200, 200, 138), Mask=(200, 200, 138)\n",
            "Shapes match: Image=(180, 180, 90), Mask=(180, 180, 90)\n",
            "Shapes match: Image=(180, 180, 128), Mask=(180, 180, 128)\n",
            "Shapes match: Image=(180, 180, 160), Mask=(180, 180, 160)\n",
            "Shapes match: Image=(200, 200, 128), Mask=(200, 200, 128)\n",
            "Shapes match: Image=(200, 200, 120), Mask=(200, 200, 120)\n",
            "Shapes match: Image=(180, 180, 145), Mask=(180, 180, 145)\n",
            "Shapes match: Image=(180, 180, 128), Mask=(180, 180, 128)\n",
            "Shapes match: Image=(200, 200, 120), Mask=(200, 200, 120)\n",
            "Shapes match: Image=(200, 200, 120), Mask=(200, 200, 120)\n",
            "Shapes match: Image=(200, 200, 120), Mask=(200, 200, 120)\n",
            "Shapes match: Image=(180, 180, 90), Mask=(180, 180, 90)\n",
            "Shapes match: Image=(200, 200, 120), Mask=(200, 200, 120)\n",
            "Shapes match: Image=(200, 200, 132), Mask=(200, 200, 132)\n",
            "Shapes match: Image=(240, 240, 138), Mask=(240, 240, 138)\n",
            "Shapes match: Image=(220, 220, 126), Mask=(220, 220, 126)\n",
            "Shapes match: Image=(200, 200, 150), Mask=(200, 200, 150)\n",
            "Shapes match: Image=(200, 200, 120), Mask=(200, 200, 120)\n",
            "Shapes match: Image=(230, 230, 132), Mask=(230, 230, 132)\n",
            "Shapes match: Image=(180, 180, 108), Mask=(180, 180, 108)\n",
            "Shapes match: Image=(180, 180, 140), Mask=(180, 180, 140)\n",
            "Shapes match: Image=(200, 200, 120), Mask=(200, 200, 120)\n",
            "Shapes match: Image=(200, 200, 165), Mask=(200, 200, 165)\n",
            "Shapes match: Image=(200, 200, 126), Mask=(200, 200, 126)\n",
            "Shapes match: Image=(180, 180, 140), Mask=(180, 180, 140)\n",
            "Shapes match: Image=(180, 180, 128), Mask=(180, 180, 128)\n",
            "Shapes match: Image=(200, 200, 185), Mask=(200, 200, 185)\n",
            "Warning: Shape mismatch for ISPY1_1184_DCE_0002_N3_zscored.nii.gz ((200, 200, 120)) and ISPY1_1184.nii.gz ((256, 256, 60)). Skipping.\n",
            "Shapes match: Image=(200, 200, 156), Mask=(200, 200, 156)\n",
            "Shapes match: Image=(200, 200, 120), Mask=(200, 200, 120)\n",
            "Shapes match: Image=(200, 200, 132), Mask=(200, 200, 132)\n",
            "Shapes match: Image=(200, 200, 120), Mask=(200, 200, 120)\n",
            "Shapes match: Image=(180, 180, 150), Mask=(180, 180, 150)\n",
            "Shapes match: Image=(250, 250, 168), Mask=(250, 250, 168)\n",
            "Shapes match: Image=(180, 180, 130), Mask=(180, 180, 130)\n",
            "Shapes match: Image=(200, 200, 120), Mask=(200, 200, 120)\n",
            "Shapes match: Image=(180, 180, 120), Mask=(180, 180, 120)\n",
            "Shapes match: Image=(200, 200, 132), Mask=(200, 200, 132)\n",
            "Shapes match: Image=(220, 220, 120), Mask=(220, 220, 120)\n",
            "Shapes match: Image=(200, 200, 128), Mask=(200, 200, 128)\n",
            "Shapes match: Image=(240, 240, 348), Mask=(240, 240, 348)\n",
            "Shapes match: Image=(240, 240, 120), Mask=(240, 240, 120)\n",
            "Shapes match: Image=(180, 180, 155), Mask=(180, 180, 155)\n",
            "Shapes match: Image=(200, 200, 132), Mask=(200, 200, 132)\n",
            "Shapes match: Image=(180, 180, 128), Mask=(180, 180, 128)\n",
            "Shapes match: Image=(180, 180, 83), Mask=(180, 180, 83)\n",
            "Shapes match: Image=(180, 180, 90), Mask=(180, 180, 90)\n",
            "Shapes match: Image=(280, 280, 162), Mask=(280, 280, 162)\n",
            "Shapes match: Image=(180, 180, 140), Mask=(180, 180, 140)\n",
            "Shapes match: Image=(180, 180, 145), Mask=(180, 180, 145)\n",
            "Shapes match: Image=(200, 200, 120), Mask=(200, 200, 120)\n",
            "Shapes match: Image=(180, 180, 128), Mask=(180, 180, 128)\n",
            "Shapes match: Image=(180, 180, 140), Mask=(180, 180, 140)\n",
            "Shapes match: Image=(200, 200, 128), Mask=(200, 200, 128)\n",
            "Shapes match: Image=(200, 200, 120), Mask=(200, 200, 120)\n",
            "Shapes match: Image=(180, 180, 155), Mask=(180, 180, 155)\n",
            "Shapes match: Image=(180, 180, 105), Mask=(180, 180, 105)\n",
            "Shapes match: Image=(200, 200, 165), Mask=(200, 200, 165)\n",
            "Shapes match: Image=(180, 180, 140), Mask=(180, 180, 140)\n",
            "Shapes match: Image=(220, 220, 150), Mask=(220, 220, 150)\n",
            "Shapes match: Image=(200, 200, 120), Mask=(200, 200, 120)\n",
            "Shapes match: Image=(280, 280, 150), Mask=(280, 280, 150)\n",
            "Shapes match: Image=(200, 200, 120), Mask=(200, 200, 120)\n",
            "Shapes match: Image=(200, 200, 120), Mask=(200, 200, 120)\n",
            "Shapes match: Image=(300, 300, 144), Mask=(300, 300, 144)\n",
            "Shapes match: Image=(240, 240, 138), Mask=(240, 240, 138)\n",
            "Shapes match: Image=(200, 200, 112), Mask=(200, 200, 112)\n",
            "Shapes match: Image=(180, 180, 140), Mask=(180, 180, 140)\n",
            "Shapes match: Image=(220, 220, 156), Mask=(220, 220, 156)\n",
            "Shapes match: Image=(200, 200, 120), Mask=(200, 200, 120)\n",
            "Shapes match: Image=(200, 200, 132), Mask=(200, 200, 132)\n",
            "Warning: Shape mismatch for ISPY1_1237_DCE_0002_N3_zscored.nii.gz ((200, 200, 132)) and ISPY1_1237.nii.gz ((213, 200, 150)). Skipping.\n",
            "Shapes match: Image=(200, 200, 132), Mask=(200, 200, 132)\n",
            "Shapes match: Image=(180, 180, 140), Mask=(180, 180, 140)\n",
            "Shapes match: Image=(220, 220, 132), Mask=(220, 220, 132)\n",
            "Shapes match: Image=(200, 200, 140), Mask=(200, 200, 140)\n",
            "Shapes match: Image=(200, 200, 150), Mask=(200, 200, 150)\n",
            "Shapes match: Image=(180, 180, 145), Mask=(180, 180, 145)\n",
            "Shapes match: Image=(200, 200, 144), Mask=(200, 200, 144)\n",
            "Shapes match: Image=(200, 200, 120), Mask=(200, 200, 120)\n",
            "Shapes match: Image=(200, 200, 138), Mask=(200, 200, 138)\n",
            "Shapes match: Image=(200, 200, 150), Mask=(200, 200, 150)\n",
            "Shapes match: Image=(200, 200, 120), Mask=(200, 200, 120)\n",
            "Shapes match: Image=(180, 180, 162), Mask=(180, 180, 162)\n",
            "Shapes match: Image=(180, 180, 128), Mask=(180, 180, 128)\n",
            "Shapes match: Image=(180, 180, 145), Mask=(180, 180, 145)\n",
            "Shapes match: Image=(180, 180, 140), Mask=(180, 180, 140)\n",
            "Shapes match: Image=(220, 220, 120), Mask=(220, 220, 120)\n",
            "Shapes match: Image=(200, 200, 132), Mask=(200, 200, 132)\n",
            "Shapes match: Image=(180, 180, 128), Mask=(180, 180, 128)\n",
            "Shapes match: Image=(210, 210, 120), Mask=(210, 210, 120)\n",
            "Shapes match: Image=(220, 220, 156), Mask=(220, 220, 156)\n",
            "Shapes match: Image=(200, 200, 147), Mask=(200, 200, 147)\n",
            "Shapes match: Image=(180, 180, 128), Mask=(180, 180, 128)\n",
            "Shapes match: Image=(200, 200, 120), Mask=(200, 200, 120)\n",
            "Shapes match: Image=(180, 180, 128), Mask=(180, 180, 128)\n",
            "Shapes match: Image=(200, 200, 120), Mask=(200, 200, 120)\n",
            "Shapes match: Image=(200, 200, 132), Mask=(200, 200, 132)\n",
            "Shapes match: Image=(270, 270, 168), Mask=(270, 270, 168)\n",
            "Shapes match: Image=(200, 200, 140), Mask=(200, 200, 140)\n",
            "Shapes match: Image=(200, 200, 360), Mask=(200, 200, 360)\n",
            "Shapes match: Image=(200, 200, 120), Mask=(200, 200, 120)\n",
            "Shapes match: Image=(240, 240, 138), Mask=(240, 240, 138)\n",
            "Shapes match: Image=(200, 200, 128), Mask=(200, 200, 128)\n",
            "Shapes match: Image=(200, 200, 162), Mask=(200, 200, 162)\n",
            "Shapes match: Image=(240, 240, 132), Mask=(240, 240, 132)\n",
            "Shapes match: Image=(200, 200, 147), Mask=(200, 200, 147)\n",
            "Shapes match: Image=(180, 180, 147), Mask=(180, 180, 147)\n",
            "Shapes match: Image=(220, 220, 132), Mask=(220, 220, 132)\n",
            "Shapes match: Image=(180, 180, 140), Mask=(180, 180, 140)\n",
            "Shapes match: Image=(210, 210, 126), Mask=(210, 210, 126)\n",
            "Shapes match: Image=(200, 200, 120), Mask=(200, 200, 120)\n",
            "Shapes match: Image=(200, 200, 140), Mask=(200, 200, 140)\n",
            "Shapes match: Image=(200, 200, 120), Mask=(200, 200, 120)\n",
            "Shapes match: Image=(200, 200, 120), Mask=(200, 200, 120)\n",
            "Shapes match: Image=(200, 200, 132), Mask=(200, 200, 132)\n",
            "Shapes match: Image=(200, 200, 132), Mask=(200, 200, 132)\n",
            "Shapes match: Image=(200, 200, 120), Mask=(200, 200, 120)\n",
            "Shapes match: Image=(200, 200, 120), Mask=(200, 200, 120)\n",
            "Shapes match: Image=(200, 200, 138), Mask=(200, 200, 138)\n",
            "Shapes match: Image=(240, 240, 132), Mask=(240, 240, 132)\n",
            "Shapes match: Image=(210, 210, 120), Mask=(210, 210, 120)\n",
            "Shapes match: Image=(200, 200, 120), Mask=(200, 200, 120)\n",
            "Shapes match: Image=(180, 180, 150), Mask=(180, 180, 150)\n",
            "Shapes match: Image=(230, 230, 120), Mask=(230, 230, 120)\n",
            "Shapes match: Image=(180, 180, 90), Mask=(180, 180, 90)\n",
            "Shapes match: Image=(180, 180, 144), Mask=(180, 180, 144)\n",
            "Shapes match: Image=(180, 180, 128), Mask=(180, 180, 128)\n",
            "Shapes match: Image=(220, 220, 384), Mask=(220, 220, 384)\n",
            "Shapes match: Image=(220, 220, 140), Mask=(220, 220, 140)\n",
            "Shapes match: Image=(180, 180, 140), Mask=(180, 180, 140)\n",
            "Shapes match: Image=(200, 200, 132), Mask=(200, 200, 132)\n",
            "Shapes match: Image=(200, 200, 132), Mask=(200, 200, 132)\n",
            "Shapes match: Image=(200, 200, 120), Mask=(200, 200, 120)\n",
            "Shapes match: Image=(200, 200, 120), Mask=(200, 200, 120)\n",
            "Shapes match: Image=(220, 220, 360), Mask=(220, 220, 360)\n",
            "Shapes match: Image=(200, 200, 120), Mask=(200, 200, 120)\n",
            "Shapes match: Image=(270, 270, 168), Mask=(270, 270, 168)\n",
            "Shapes match: Image=(200, 200, 132), Mask=(200, 200, 132)\n",
            "Shapes match: Image=(220, 220, 120), Mask=(220, 220, 120)\n",
            "Shapes match: Image=(180, 180, 140), Mask=(180, 180, 140)\n",
            "Shapes match: Image=(200, 200, 128), Mask=(200, 200, 128)\n",
            "Shapes match: Image=(240, 240, 156), Mask=(240, 240, 156)\n",
            "Shapes match: Image=(200, 200, 120), Mask=(200, 200, 120)\n",
            "Shapes match: Image=(250, 250, 132), Mask=(250, 250, 132)\n",
            "Shapes match: Image=(200, 200, 128), Mask=(200, 200, 128)\n",
            "Shapes match: Image=(200, 200, 132), Mask=(200, 200, 132)\n",
            "Shapes match: Image=(200, 200, 128), Mask=(200, 200, 128)\n",
            "Shapes match: Image=(200, 200, 120), Mask=(200, 200, 120)\n",
            "Shapes match: Image=(240, 240, 195), Mask=(240, 240, 195)\n",
            "Shapes match: Image=(200, 200, 132), Mask=(200, 200, 132)\n",
            "Shapes match: Image=(180, 180, 160), Mask=(180, 180, 160)\n",
            "Shapes match: Image=(180, 180, 155), Mask=(180, 180, 155)\n",
            "Shapes match: Image=(200, 200, 120), Mask=(200, 200, 120)\n",
            "Shapes match: Image=(180, 180, 155), Mask=(180, 180, 155)\n",
            "Finished loading 161 images and 161 masks\n"
          ]
        }
      ],
      "source": [
        "#Load input images and masks.\n",
        "#Here we load 256x256x256 pixel volume. We will break it into patches of 64x64x64 for training.\n",
        "image = nib.load('dataset/Images/ISPY1_1221_DCE_0002_N3_zscored.nii.gz').get_fdata()\n",
        "print(image.shape)\n",
        "img_patches = patchify(image, (64, 64, 64), step=64)  #Step=64 for 64 patches means no overlap\n",
        "print(img_patches.shape)\n",
        "mask = nib.load('dataset/Masks/ISPY1_1221.nii.gz').get_fdata()\n",
        "print(mask.shape)\n",
        "mask_patches = patchify(mask, (64, 64, 64), step=64)\n",
        "print(mask_patches.shape)\n",
        "\n",
        "images_list, masks_list = load_and_patch_images_masks(\n",
        "    \"./dataset/Images\",\n",
        "    \"./dataset/Masks\"\n",
        ")"
      ]
    },
    {
      "cell_type": "code",
      "execution_count": null,
      "metadata": {
        "id": "cvLoAFTNQjcj",
        "colab": {
          "base_uri": "https://localhost:8080/"
        },
        "outputId": "a92b5154-1d05-4bec-b6d9-85f0e722f8b2"
      },
      "outputs": [
        {
          "output_type": "stream",
          "name": "stdout",
          "text": [
            "(200, 200, 120)\n",
            "(3, 3, 1, 64, 64, 64)\n",
            "(200, 200, 120)\n",
            "(3, 3, 1, 64, 64, 64)\n"
          ]
        }
      ],
      "source": [
        "##Load training data and masks\n",
        "image_t = nib.load('dataset/Images/ISPY1_1002_DCE_0002_N3_zscored.nii.gz').get_fdata()\n",
        "print(image_t.shape)\n",
        "img_patches_training = patchify(image_t, (64, 64, 64), step=64)  #Step=64 for 64 patches means no overlap\n",
        "print(img_patches_training.shape)\n",
        "mask_t = nib.load('dataset/Masks/ISPY1_1002.nii.gz').get_fdata()\n",
        "print(mask_t.shape)\n",
        "mask_patches_training = patchify(mask_t, (64, 64, 64), step=64)\n",
        "print(mask_patches_training.shape)\n"
      ]
    },
    {
      "cell_type": "code",
      "execution_count": null,
      "metadata": {
        "id": "A8a8BumA_qpa",
        "colab": {
          "base_uri": "https://localhost:8080/",
          "height": 449
        },
        "outputId": "fbaa1df2-0815-4793-a665-b927f6edc633"
      },
      "outputs": [
        {
          "output_type": "stream",
          "name": "stdout",
          "text": [
            "(3, 3, 1, 64, 64, 64)\n"
          ]
        },
        {
          "output_type": "display_data",
          "data": {
            "text/plain": [
              "<Figure size 640x480 with 1 Axes>"
            ],
            "image/png": "[encoded data removed]"
          },
          "metadata": {}
        }
      ],
      "source": [
        "plt.imshow(images_list[140][0,0,0,:,:,3])\n",
        "#plt.imshow(mask_patches[0,1,2,:,:,3])\n",
        "#plt.imshow(mask_patches[0,0,7,:,:,2])\n",
        "print(np.shape(images_list[140]))\n"
      ]
    },
    {
      "cell_type": "code",
      "execution_count": null,
      "metadata": {
        "id": "K08wiQ0y-ogu",
        "colab": {
          "base_uri": "https://localhost:8080/"
        },
        "outputId": "3eec7738-6466-4014-8080-110e548d6202"
      },
      "outputs": [
        {
          "output_type": "stream",
          "name": "stdout",
          "text": [
            "161\n"
          ]
        }
      ],
      "source": [
        "print(len(images_list))\n",
        "## Reshaping the lists\n",
        "for i in range(len(images_list)):\n",
        "    images_list[i] = np.reshape(images_list[i], (-1, images_list[i].shape[3], images_list[i].shape[4], images_list[i].shape[5]))\n",
        "    masks_list[i] = np.reshape(masks_list[i], (-1, masks_list[i].shape[3], masks_list[i].shape[4], masks_list[i].shape[5]))\n"
      ]
    },
    {
      "cell_type": "code",
      "execution_count": null,
      "metadata": {
        "id": "_DC50IwWQjcj",
        "colab": {
          "base_uri": "https://localhost:8080/"
        },
        "outputId": "44e2aaa7-274e-4d28-e8e3-16a2fdcecf8c"
      },
      "outputs": [
        {
          "output_type": "stream",
          "name": "stdout",
          "text": [
            "565788901 4636443\n",
            "Percentage of background: 99.18719547636368%\n",
            "Percentage of tumor: 0.8128045236363131%\n"
          ]
        }
      ],
      "source": [
        "#Concatenating it all into a single list\n",
        "images_list = np.concatenate(images_list, axis=0)\n",
        "masks_list = np.concatenate(masks_list, axis=0)\n",
        "\n",
        "tumor = 0\n",
        "bg = 0\n",
        "for chunk in masks_list:\n",
        "    tumor += np.count_nonzero(chunk==1)\n",
        "    bg += np.count_nonzero(chunk==0)\n",
        "\n",
        "print(bg,tumor)\n",
        "print(f\"Percentage of background: {(bg/(bg+tumor))*100}%\")\n",
        "print(f\"Percentage of tumor: {(tumor/(bg+tumor))*100}%\")"
      ]
    },
    {
      "cell_type": "code",
      "execution_count": null,
      "metadata": {
        "id": "3FqzxzsX_4YQ",
        "outputId": "b24a5a7c-2c73-4ae4-b1cc-e56acd4a7620",
        "colab": {
          "base_uri": "https://localhost:8080/"
        }
      },
      "outputs": [
        {
          "output_type": "stream",
          "name": "stdout",
          "text": [
            "(2176, 64, 64, 64)\n"
          ]
        }
      ],
      "source": [
        "print(images_list.shape)"
      ]
    },
    {
      "cell_type": "code",
      "execution_count": null,
      "metadata": {
        "id": "BfjIomRsQjcj"
      },
      "outputs": [],
      "source": [
        "n_classes = 2"
      ]
    },
    {
      "cell_type": "code",
      "execution_count": null,
      "metadata": {
        "id": "av8BBXU0-rdw",
        "outputId": "85d3769c-083a-4578-aa0b-a3bb3a107274",
        "colab": {
          "base_uri": "https://localhost:8080/"
        }
      },
      "outputs": [
        {
          "output_type": "stream",
          "name": "stdout",
          "text": [
            "Starting conversion to categorical\n",
            "Finished split to categorical\n",
            "(1849, 64, 64, 64, 2)\n"
          ]
        }
      ],
      "source": [
        "#Convert grey image to 3 channels by copying channel 3 times.\n",
        "#We do this as our unet model expects 3 channel input.\n",
        "\n",
        "images_list = np.stack((images_list,)*3, axis=-1)\n",
        "\n",
        "print(\"Starting conversion to categorical\")\n",
        "\n",
        "masks_list = np.expand_dims(masks_list, axis=4)\n",
        "masks_list = to_categorical(masks_list, num_classes=n_classes)\n",
        "\n",
        "#masks_list = np.concatenate(masks_list, axis=0)\n",
        "\n",
        "print(\"Finished split to categorical\")\n",
        "X_train, X_test, Y_train, Y_test = train_test_split(images_list, masks_list, test_size = 0.15, random_state = 0)\n",
        "print(Y_train.shape)\n"
      ]
    },
    {
      "cell_type": "code",
      "execution_count": null,
      "metadata": {
        "id": "Higavd5lmj6A"
      },
      "outputs": [],
      "source": [
        "\n",
        "# Loss Function and coefficients to be used during training:\n",
        "def dice_coefficient(y_true, y_pred):\n",
        "    smoothing_factor = 1\n",
        "    flat_y_true = K.flatten(y_true)\n",
        "    flat_y_pred = K.flatten(y_pred)\n",
        "    return (2. * K.sum(flat_y_true * flat_y_pred) + smoothing_factor) / (K.sum(flat_y_true) + K.sum(flat_y_pred) + smoothing_factor)\n",
        "\n",
        "def dice_coefficient_loss(y_true, y_pred):\n",
        "    return 1 - dice_coefficient(y_true, y_pred)\n"
      ]
    },
    {
      "cell_type": "markdown",
      "metadata": {
        "id": "wh0P2o-kQwSK"
      },
      "source": [
        "Backbones: ['resnet18', 'resnet34', 'resnet50', 'resnet101', 'resnet152', 'seresnet18', 'seresnet34', 'seresnet50', 'seresnet101', 'seresnet152', 'seresnext50', 'seresnext101', 'senet154', 'resnext50', 'resnext101', 'vgg16', 'vgg19', 'densenet121', 'densenet169', 'densenet201', 'inceptionresnetv2', 'inceptionv3', 'mobilenet', 'mobilenetv2', 'efficientnetb0', 'efficientnetb1', 'efficientnetb2', 'efficientnetb3', 'efficientnetb4', 'efficientnetb5', 'efficientnetb6', 'efficientnetb7']"
      ]
    },
    {
      "cell_type": "code",
      "execution_count": null,
      "metadata": {
        "id": "mWiQsv6IqGGF"
      },
      "outputs": [],
      "source": [
        "#Define parameters for our model.\n",
        "\n",
        "encoder_weights = 'imagenet'\n",
        "BACKBONE = 'vgg16'  #Try vgg16, efficientnetb7, inceptionv3, resnet50\n",
        "activation = 'softmax'\n",
        "patch_size = 64\n",
        "n_classes = 2\n",
        "channels=3\n",
        "\n",
        "LR = 0.0001\n",
        "optim = keras.optimizers.Adam(LR)\n",
        "\n",
        "# Segmentation models losses can be combined together by '+' and scaled by integer or float factor\n",
        "# set class weights for dice_loss (car: 1.; pedestrian: 2.; background: 0.5;)\n",
        "dice_loss = sm.losses.DiceLoss(class_weights=np.array([0.992, 0.008]))\n",
        "focal_loss = sm.losses.CategoricalFocalLoss()\n",
        "total_loss = dice_loss + (1 * focal_loss)\n",
        "\n",
        "# actulally total_loss can be imported directly from library, above example just show you how to manipulate with losses\n",
        "# total_loss = sm.losses.binary_focal_dice_loss # or sm.losses.categorical_focal_dice_loss\n",
        "\n",
        "metrics = [sm.metrics.IOUScore(threshold=0.5), sm.metrics.FScore(threshold=0.5)]"
      ]
    },
    {
      "cell_type": "code",
      "execution_count": null,
      "metadata": {
        "id": "3jTN_tsXD7qK",
        "outputId": "a1289948-1364-4dcc-8df1-e09abca7086f",
        "colab": {
          "base_uri": "https://localhost:8080/"
        }
      },
      "outputs": [
        {
          "output_type": "stream",
          "name": "stdout",
          "text": [
            "Using __wrapped__ to get the original preprocess_input function.\n"
          ]
        }
      ],
      "source": [
        "#Preprocess input data - otherwise you end up with garbage resutls\n",
        "# and potentially model that does not converge.\n",
        "\n",
        "from classification_models_3D.tfkeras import Classifiers\n",
        "\n",
        "\n",
        "model_builder, specific_preprocess_input_wrapped = Classifiers.get('vgg16')\n",
        "\n",
        "# Attempt to get the actual underlying function\n",
        "if hasattr(specific_preprocess_input_wrapped, '__wrapped__'):\n",
        "    actual_preprocess_function = specific_preprocess_input_wrapped.__wrapped__\n",
        "    print(\"Using __wrapped__ to get the original preprocess_input function.\")\n",
        "else:\n",
        "    # Fallback if __wrapped__ is not present for some reason,\n",
        "    # though the traceback suggests it should be.\n",
        "    actual_preprocess_function = specific_preprocess_input_wrapped\n",
        "    print(\"Warning: __wrapped__ not found, using the function as is.\")\n",
        "\n",
        "\n",
        "X_train_prep = actual_preprocess_function(X_train)\n",
        "X_test_prep = actual_preprocess_function(X_test)"
      ]
    },
    {
      "cell_type": "code",
      "execution_count": null,
      "metadata": {
        "id": "lePX43TyD1Lp",
        "outputId": "2c0a1e9b-a1de-42de-ca05-097a1c5f1f3e",
        "colab": {
          "base_uri": "https://localhost:8080/"
        }
      },
      "outputs": [
        {
          "output_type": "stream",
          "name": "stdout",
          "text": [
            "X_train_prep shape: (1849, 64, 64, 64, 3)\n",
            "y_train shape: (1849, 64, 64, 64, 2)\n",
            "X_test_prep shape: (327, 64, 64, 64, 3)\n",
            "y_test shape: (327, 64, 64, 64, 2)\n"
          ]
        }
      ],
      "source": [
        "preprocess_input = sm.get_preprocessing(\"vgg16\")\n",
        "\n",
        "print(\"X_train_prep shape:\", X_train.shape)\n",
        "print(\"y_train shape:\", Y_train.shape)\n",
        "print(\"X_test_prep shape:\", X_test.shape)\n",
        "print(\"y_test shape:\", Y_test.shape)"
      ]
    },
    {
      "cell_type": "code",
      "execution_count": null,
      "metadata": {
        "id": "jdoK1wudAJQ7",
        "outputId": "42423ebc-e4ee-4fce-9348-f3a5a8b1c1a9",
        "colab": {
          "base_uri": "https://localhost:8080/",
          "height": 1000
        }
      },
      "outputs": [
        {
          "output_type": "display_data",
          "data": {
            "text/plain": [
              "\u001b[1mModel: \"functional_1\"\u001b[0m\n"
            ],
            "text/html": [
              "<pre style=\"white-space:pre;overflow-x:auto;line-height:normal;font-family:Menlo,'DejaVu Sans Mono',consolas,'Courier New',monospace\"><span style=\"font-weight: bold\">Model: \"functional_1\"</span>\n",
              "</pre>\n"
            ]
          },
          "metadata": {}
        },
        {
          "output_type": "display_data",
          "data": {
            "text/plain": [
              "┏━━━━━━━━━━━━━━━━━━━━━┳━━━━━━━━━━━━━━━━━━━┳━━━━━━━━━━━━┳━━━━━━━━━━━━━━━━━━━┓\n",
              "┃\u001b[1m \u001b[0m\u001b[1mLayer (type)       \u001b[0m\u001b[1m \u001b[0m┃\u001b[1m \u001b[0m\u001b[1mOutput Shape     \u001b[0m\u001b[1m \u001b[0m┃\u001b[1m \u001b[0m\u001b[1m   Param #\u001b[0m\u001b[1m \u001b[0m┃\u001b[1m \u001b[0m\u001b[1mConnected to     \u001b[0m\u001b[1m \u001b[0m┃\n",
              "┡━━━━━━━━━━━━━━━━━━━━━╇━━━━━━━━━━━━━━━━━━━╇━━━━━━━━━━━━╇━━━━━━━━━━━━━━━━━━━┩\n",
              "│ input_layer         │ (\u001b[38;5;45mNone\u001b[0m, \u001b[38;5;34m64\u001b[0m, \u001b[38;5;34m64\u001b[0m,    │          \u001b[38;5;34m0\u001b[0m │ -                 │\n",
              "│ (\u001b[38;5;33mInputLayer\u001b[0m)        │ \u001b[38;5;34m64\u001b[0m, \u001b[38;5;34m3\u001b[0m)            │            │                   │\n",
              "├─────────────────────┼───────────────────┼────────────┼───────────────────┤\n",
              "│ block1_conv1        │ (\u001b[38;5;45mNone\u001b[0m, \u001b[38;5;34m64\u001b[0m, \u001b[38;5;34m64\u001b[0m,    │      \u001b[38;5;34m5,248\u001b[0m │ input_layer[\u001b[38;5;34m0\u001b[0m][\u001b[38;5;34m0\u001b[0m] │\n",
              "│ (\u001b[38;5;33mConv3D\u001b[0m)            │ \u001b[38;5;34m64\u001b[0m, \u001b[38;5;34m64\u001b[0m)           │            │                   │\n",
              "├─────────────────────┼───────────────────┼────────────┼───────────────────┤\n",
              "│ block1_conv2        │ (\u001b[38;5;45mNone\u001b[0m, \u001b[38;5;34m64\u001b[0m, \u001b[38;5;34m64\u001b[0m,    │    \u001b[38;5;34m110,656\u001b[0m │ block1_conv1[\u001b[38;5;34m0\u001b[0m][\u001b[38;5;34m…\u001b[0m │\n",
              "│ (\u001b[38;5;33mConv3D\u001b[0m)            │ \u001b[38;5;34m64\u001b[0m, \u001b[38;5;34m64\u001b[0m)           │            │                   │\n",
              "├─────────────────────┼───────────────────┼────────────┼───────────────────┤\n",
              "│ block1_pool         │ (\u001b[38;5;45mNone\u001b[0m, \u001b[38;5;34m32\u001b[0m, \u001b[38;5;34m32\u001b[0m,    │          \u001b[38;5;34m0\u001b[0m │ block1_conv2[\u001b[38;5;34m0\u001b[0m][\u001b[38;5;34m…\u001b[0m │\n",
              "│ (\u001b[38;5;33mMaxPooling3D\u001b[0m)      │ \u001b[38;5;34m32\u001b[0m, \u001b[38;5;34m64\u001b[0m)           │            │                   │\n",
              "├─────────────────────┼───────────────────┼────────────┼───────────────────┤\n",
              "│ block2_conv1        │ (\u001b[38;5;45mNone\u001b[0m, \u001b[38;5;34m32\u001b[0m, \u001b[38;5;34m32\u001b[0m,    │    \u001b[38;5;34m221,312\u001b[0m │ block1_pool[\u001b[38;5;34m0\u001b[0m][\u001b[38;5;34m0\u001b[0m] │\n",
              "│ (\u001b[38;5;33mConv3D\u001b[0m)            │ \u001b[38;5;34m32\u001b[0m, \u001b[38;5;34m128\u001b[0m)          │            │                   │\n",
              "├─────────────────────┼───────────────────┼────────────┼───────────────────┤\n",
              "│ block2_conv2        │ (\u001b[38;5;45mNone\u001b[0m, \u001b[38;5;34m32\u001b[0m, \u001b[38;5;34m32\u001b[0m,    │    \u001b[38;5;34m442,496\u001b[0m │ block2_conv1[\u001b[38;5;34m0\u001b[0m][\u001b[38;5;34m…\u001b[0m │\n",
              "│ (\u001b[38;5;33mConv3D\u001b[0m)            │ \u001b[38;5;34m32\u001b[0m, \u001b[38;5;34m128\u001b[0m)          │            │                   │\n",
              "├─────────────────────┼───────────────────┼────────────┼───────────────────┤\n",
              "│ block2_pool         │ (\u001b[38;5;45mNone\u001b[0m, \u001b[38;5;34m16\u001b[0m, \u001b[38;5;34m16\u001b[0m,    │          \u001b[38;5;34m0\u001b[0m │ block2_conv2[\u001b[38;5;34m0\u001b[0m][\u001b[38;5;34m…\u001b[0m │\n",
              "│ (\u001b[38;5;33mMaxPooling3D\u001b[0m)      │ \u001b[38;5;34m16\u001b[0m, \u001b[38;5;34m128\u001b[0m)          │            │                   │\n",
              "├─────────────────────┼───────────────────┼────────────┼───────────────────┤\n",
              "│ block3_conv1        │ (\u001b[38;5;45mNone\u001b[0m, \u001b[38;5;34m16\u001b[0m, \u001b[38;5;34m16\u001b[0m,    │    \u001b[38;5;34m884,992\u001b[0m │ block2_pool[\u001b[38;5;34m0\u001b[0m][\u001b[38;5;34m0\u001b[0m] │\n",
              "│ (\u001b[38;5;33mConv3D\u001b[0m)            │ \u001b[38;5;34m16\u001b[0m, \u001b[38;5;34m256\u001b[0m)          │            │                   │\n",
              "├─────────────────────┼───────────────────┼────────────┼───────────────────┤\n",
              "│ block3_conv2        │ (\u001b[38;5;45mNone\u001b[0m, \u001b[38;5;34m16\u001b[0m, \u001b[38;5;34m16\u001b[0m,    │  \u001b[38;5;34m1,769,728\u001b[0m │ block3_conv1[\u001b[38;5;34m0\u001b[0m][\u001b[38;5;34m…\u001b[0m │\n",
              "│ (\u001b[38;5;33mConv3D\u001b[0m)            │ \u001b[38;5;34m16\u001b[0m, \u001b[38;5;34m256\u001b[0m)          │            │                   │\n",
              "├─────────────────────┼───────────────────┼────────────┼───────────────────┤\n",
              "│ block3_conv3        │ (\u001b[38;5;45mNone\u001b[0m, \u001b[38;5;34m16\u001b[0m, \u001b[38;5;34m16\u001b[0m,    │  \u001b[38;5;34m1,769,728\u001b[0m │ block3_conv2[\u001b[38;5;34m0\u001b[0m][\u001b[38;5;34m…\u001b[0m │\n",
              "│ (\u001b[38;5;33mConv3D\u001b[0m)            │ \u001b[38;5;34m16\u001b[0m, \u001b[38;5;34m256\u001b[0m)          │            │                   │\n",
              "├─────────────────────┼───────────────────┼────────────┼───────────────────┤\n",
              "│ block3_pool         │ (\u001b[38;5;45mNone\u001b[0m, \u001b[38;5;34m8\u001b[0m, \u001b[38;5;34m8\u001b[0m, \u001b[38;5;34m8\u001b[0m,   │          \u001b[38;5;34m0\u001b[0m │ block3_conv3[\u001b[38;5;34m0\u001b[0m][\u001b[38;5;34m…\u001b[0m │\n",
              "│ (\u001b[38;5;33mMaxPooling3D\u001b[0m)      │ \u001b[38;5;34m256\u001b[0m)              │            │                   │\n",
              "├─────────────────────┼───────────────────┼────────────┼───────────────────┤\n",
              "│ block4_conv1        │ (\u001b[38;5;45mNone\u001b[0m, \u001b[38;5;34m8\u001b[0m, \u001b[38;5;34m8\u001b[0m, \u001b[38;5;34m8\u001b[0m,   │  \u001b[38;5;34m3,539,456\u001b[0m │ block3_pool[\u001b[38;5;34m0\u001b[0m][\u001b[38;5;34m0\u001b[0m] │\n",
              "│ (\u001b[38;5;33mConv3D\u001b[0m)            │ \u001b[38;5;34m512\u001b[0m)              │            │                   │\n",
              "├─────────────────────┼───────────────────┼────────────┼───────────────────┤\n",
              "│ block4_conv2        │ (\u001b[38;5;45mNone\u001b[0m, \u001b[38;5;34m8\u001b[0m, \u001b[38;5;34m8\u001b[0m, \u001b[38;5;34m8\u001b[0m,   │  \u001b[38;5;34m7,078,400\u001b[0m │ block4_conv1[\u001b[38;5;34m0\u001b[0m][\u001b[38;5;34m…\u001b[0m │\n",
              "│ (\u001b[38;5;33mConv3D\u001b[0m)            │ \u001b[38;5;34m512\u001b[0m)              │            │                   │\n",
              "├─────────────────────┼───────────────────┼────────────┼───────────────────┤\n",
              "│ block4_conv3        │ (\u001b[38;5;45mNone\u001b[0m, \u001b[38;5;34m8\u001b[0m, \u001b[38;5;34m8\u001b[0m, \u001b[38;5;34m8\u001b[0m,   │  \u001b[38;5;34m7,078,400\u001b[0m │ block4_conv2[\u001b[38;5;34m0\u001b[0m][\u001b[38;5;34m…\u001b[0m │\n",
              "│ (\u001b[38;5;33mConv3D\u001b[0m)            │ \u001b[38;5;34m512\u001b[0m)              │            │                   │\n",
              "├─────────────────────┼───────────────────┼────────────┼───────────────────┤\n",
              "│ block4_pool         │ (\u001b[38;5;45mNone\u001b[0m, \u001b[38;5;34m4\u001b[0m, \u001b[38;5;34m4\u001b[0m, \u001b[38;5;34m4\u001b[0m,   │          \u001b[38;5;34m0\u001b[0m │ block4_conv3[\u001b[38;5;34m0\u001b[0m][\u001b[38;5;34m…\u001b[0m │\n",
              "│ (\u001b[38;5;33mMaxPooling3D\u001b[0m)      │ \u001b[38;5;34m512\u001b[0m)              │            │                   │\n",
              "├─────────────────────┼───────────────────┼────────────┼───────────────────┤\n",
              "│ block5_conv1        │ (\u001b[38;5;45mNone\u001b[0m, \u001b[38;5;34m4\u001b[0m, \u001b[38;5;34m4\u001b[0m, \u001b[38;5;34m4\u001b[0m,   │  \u001b[38;5;34m7,078,400\u001b[0m │ block4_pool[\u001b[38;5;34m0\u001b[0m][\u001b[38;5;34m0\u001b[0m] │\n",
              "│ (\u001b[38;5;33mConv3D\u001b[0m)            │ \u001b[38;5;34m512\u001b[0m)              │            │                   │\n",
              "├─────────────────────┼───────────────────┼────────────┼───────────────────┤\n",
              "│ block5_conv2        │ (\u001b[38;5;45mNone\u001b[0m, \u001b[38;5;34m4\u001b[0m, \u001b[38;5;34m4\u001b[0m, \u001b[38;5;34m4\u001b[0m,   │  \u001b[38;5;34m7,078,400\u001b[0m │ block5_conv1[\u001b[38;5;34m0\u001b[0m][\u001b[38;5;34m…\u001b[0m │\n",
              "│ (\u001b[38;5;33mConv3D\u001b[0m)            │ \u001b[38;5;34m512\u001b[0m)              │            │                   │\n",
              "├─────────────────────┼───────────────────┼────────────┼───────────────────┤\n",
              "│ block5_conv3        │ (\u001b[38;5;45mNone\u001b[0m, \u001b[38;5;34m4\u001b[0m, \u001b[38;5;34m4\u001b[0m, \u001b[38;5;34m4\u001b[0m,   │  \u001b[38;5;34m7,078,400\u001b[0m │ block5_conv2[\u001b[38;5;34m0\u001b[0m][\u001b[38;5;34m…\u001b[0m │\n",
              "│ (\u001b[38;5;33mConv3D\u001b[0m)            │ \u001b[38;5;34m512\u001b[0m)              │            │                   │\n",
              "├─────────────────────┼───────────────────┼────────────┼───────────────────┤\n",
              "│ block5_pool         │ (\u001b[38;5;45mNone\u001b[0m, \u001b[38;5;34m2\u001b[0m, \u001b[38;5;34m2\u001b[0m, \u001b[38;5;34m2\u001b[0m,   │          \u001b[38;5;34m0\u001b[0m │ block5_conv3[\u001b[38;5;34m0\u001b[0m][\u001b[38;5;34m…\u001b[0m │\n",
              "│ (\u001b[38;5;33mMaxPooling3D\u001b[0m)      │ \u001b[38;5;34m512\u001b[0m)              │            │                   │\n",
              "├─────────────────────┼───────────────────┼────────────┼───────────────────┤\n",
              "│ center_block1_conv  │ (\u001b[38;5;45mNone\u001b[0m, \u001b[38;5;34m2\u001b[0m, \u001b[38;5;34m2\u001b[0m, \u001b[38;5;34m2\u001b[0m,   │  \u001b[38;5;34m7,077,888\u001b[0m │ block5_pool[\u001b[38;5;34m0\u001b[0m][\u001b[38;5;34m0\u001b[0m] │\n",
              "│ (\u001b[38;5;33mConv3D\u001b[0m)            │ \u001b[38;5;34m512\u001b[0m)              │            │                   │\n",
              "├─────────────────────┼───────────────────┼────────────┼───────────────────┤\n",
              "│ center_block1_bn    │ (\u001b[38;5;45mNone\u001b[0m, \u001b[38;5;34m2\u001b[0m, \u001b[38;5;34m2\u001b[0m, \u001b[38;5;34m2\u001b[0m,   │      \u001b[38;5;34m2,048\u001b[0m │ center_block1_co… │\n",
              "│ (\u001b[38;5;33mBatchNormalizatio…\u001b[0m │ \u001b[38;5;34m512\u001b[0m)              │            │                   │\n",
              "├─────────────────────┼───────────────────┼────────────┼───────────────────┤\n",
              "│ center_block1_relu  │ (\u001b[38;5;45mNone\u001b[0m, \u001b[38;5;34m2\u001b[0m, \u001b[38;5;34m2\u001b[0m, \u001b[38;5;34m2\u001b[0m,   │          \u001b[38;5;34m0\u001b[0m │ center_block1_bn… │\n",
              "│ (\u001b[38;5;33mActivation\u001b[0m)        │ \u001b[38;5;34m512\u001b[0m)              │            │                   │\n",
              "├─────────────────────┼───────────────────┼────────────┼───────────────────┤\n",
              "│ center_block2_conv  │ (\u001b[38;5;45mNone\u001b[0m, \u001b[38;5;34m2\u001b[0m, \u001b[38;5;34m2\u001b[0m, \u001b[38;5;34m2\u001b[0m,   │  \u001b[38;5;34m7,077,888\u001b[0m │ center_block1_re… │\n",
              "│ (\u001b[38;5;33mConv3D\u001b[0m)            │ \u001b[38;5;34m512\u001b[0m)              │            │                   │\n",
              "├─────────────────────┼───────────────────┼────────────┼───────────────────┤\n",
              "│ center_block2_bn    │ (\u001b[38;5;45mNone\u001b[0m, \u001b[38;5;34m2\u001b[0m, \u001b[38;5;34m2\u001b[0m, \u001b[38;5;34m2\u001b[0m,   │      \u001b[38;5;34m2,048\u001b[0m │ center_block2_co… │\n",
              "│ (\u001b[38;5;33mBatchNormalizatio…\u001b[0m │ \u001b[38;5;34m512\u001b[0m)              │            │                   │\n",
              "├─────────────────────┼───────────────────┼────────────┼───────────────────┤\n",
              "│ center_block2_relu  │ (\u001b[38;5;45mNone\u001b[0m, \u001b[38;5;34m2\u001b[0m, \u001b[38;5;34m2\u001b[0m, \u001b[38;5;34m2\u001b[0m,   │          \u001b[38;5;34m0\u001b[0m │ center_block2_bn… │\n",
              "│ (\u001b[38;5;33mActivation\u001b[0m)        │ \u001b[38;5;34m512\u001b[0m)              │            │                   │\n",
              "├─────────────────────┼───────────────────┼────────────┼───────────────────┤\n",
              "│ decoder_stage0_ups… │ (\u001b[38;5;45mNone\u001b[0m, \u001b[38;5;34m4\u001b[0m, \u001b[38;5;34m4\u001b[0m, \u001b[38;5;34m4\u001b[0m,   │          \u001b[38;5;34m0\u001b[0m │ center_block2_re… │\n",
              "│ (\u001b[38;5;33mUpSampling3D\u001b[0m)      │ \u001b[38;5;34m512\u001b[0m)              │            │                   │\n",
              "├─────────────────────┼───────────────────┼────────────┼───────────────────┤\n",
              "│ decoder_stage0_con… │ (\u001b[38;5;45mNone\u001b[0m, \u001b[38;5;34m4\u001b[0m, \u001b[38;5;34m4\u001b[0m, \u001b[38;5;34m4\u001b[0m,   │          \u001b[38;5;34m0\u001b[0m │ decoder_stage0_u… │\n",
              "│ (\u001b[38;5;33mConcatenate\u001b[0m)       │ \u001b[38;5;34m1024\u001b[0m)             │            │ block5_conv3[\u001b[38;5;34m0\u001b[0m][\u001b[38;5;34m…\u001b[0m │\n",
              "├─────────────────────┼───────────────────┼────────────┼───────────────────┤\n",
              "│ decoder_stage0a_co… │ (\u001b[38;5;45mNone\u001b[0m, \u001b[38;5;34m4\u001b[0m, \u001b[38;5;34m4\u001b[0m, \u001b[38;5;34m4\u001b[0m,   │  \u001b[38;5;34m7,077,888\u001b[0m │ decoder_stage0_c… │\n",
              "│ (\u001b[38;5;33mConv3D\u001b[0m)            │ \u001b[38;5;34m256\u001b[0m)              │            │                   │\n",
              "├─────────────────────┼───────────────────┼────────────┼───────────────────┤\n",
              "│ decoder_stage0a_bn  │ (\u001b[38;5;45mNone\u001b[0m, \u001b[38;5;34m4\u001b[0m, \u001b[38;5;34m4\u001b[0m, \u001b[38;5;34m4\u001b[0m,   │      \u001b[38;5;34m1,024\u001b[0m │ decoder_stage0a_… │\n",
              "│ (\u001b[38;5;33mBatchNormalizatio…\u001b[0m │ \u001b[38;5;34m256\u001b[0m)              │            │                   │\n",
              "├─────────────────────┼───────────────────┼────────────┼───────────────────┤\n",
              "│ decoder_stage0a_re… │ (\u001b[38;5;45mNone\u001b[0m, \u001b[38;5;34m4\u001b[0m, \u001b[38;5;34m4\u001b[0m, \u001b[38;5;34m4\u001b[0m,   │          \u001b[38;5;34m0\u001b[0m │ decoder_stage0a_… │\n",
              "│ (\u001b[38;5;33mActivation\u001b[0m)        │ \u001b[38;5;34m256\u001b[0m)              │            │                   │\n",
              "├─────────────────────┼───────────────────┼────────────┼───────────────────┤\n",
              "│ decoder_stage0b_co… │ (\u001b[38;5;45mNone\u001b[0m, \u001b[38;5;34m4\u001b[0m, \u001b[38;5;34m4\u001b[0m, \u001b[38;5;34m4\u001b[0m,   │  \u001b[38;5;34m1,769,472\u001b[0m │ decoder_stage0a_… │\n",
              "│ (\u001b[38;5;33mConv3D\u001b[0m)            │ \u001b[38;5;34m256\u001b[0m)              │            │                   │\n",
              "├─────────────────────┼───────────────────┼────────────┼───────────────────┤\n",
              "│ decoder_stage0b_bn  │ (\u001b[38;5;45mNone\u001b[0m, \u001b[38;5;34m4\u001b[0m, \u001b[38;5;34m4\u001b[0m, \u001b[38;5;34m4\u001b[0m,   │      \u001b[38;5;34m1,024\u001b[0m │ decoder_stage0b_… │\n",
              "│ (\u001b[38;5;33mBatchNormalizatio…\u001b[0m │ \u001b[38;5;34m256\u001b[0m)              │            │                   │\n",
              "├─────────────────────┼───────────────────┼────────────┼───────────────────┤\n",
              "│ decoder_stage0b_re… │ (\u001b[38;5;45mNone\u001b[0m, \u001b[38;5;34m4\u001b[0m, \u001b[38;5;34m4\u001b[0m, \u001b[38;5;34m4\u001b[0m,   │          \u001b[38;5;34m0\u001b[0m │ decoder_stage0b_… │\n",
              "│ (\u001b[38;5;33mActivation\u001b[0m)        │ \u001b[38;5;34m256\u001b[0m)              │            │                   │\n",
              "├─────────────────────┼───────────────────┼────────────┼───────────────────┤\n",
              "│ decoder_stage1_ups… │ (\u001b[38;5;45mNone\u001b[0m, \u001b[38;5;34m8\u001b[0m, \u001b[38;5;34m8\u001b[0m, \u001b[38;5;34m8\u001b[0m,   │          \u001b[38;5;34m0\u001b[0m │ decoder_stage0b_… │\n",
              "│ (\u001b[38;5;33mUpSampling3D\u001b[0m)      │ \u001b[38;5;34m256\u001b[0m)              │            │                   │\n",
              "├─────────────────────┼───────────────────┼────────────┼───────────────────┤\n",
              "│ decoder_stage1_con… │ (\u001b[38;5;45mNone\u001b[0m, \u001b[38;5;34m8\u001b[0m, \u001b[38;5;34m8\u001b[0m, \u001b[38;5;34m8\u001b[0m,   │          \u001b[38;5;34m0\u001b[0m │ decoder_stage1_u… │\n",
              "│ (\u001b[38;5;33mConcatenate\u001b[0m)       │ \u001b[38;5;34m768\u001b[0m)              │            │ block4_conv3[\u001b[38;5;34m0\u001b[0m][\u001b[38;5;34m…\u001b[0m │\n",
              "├─────────────────────┼───────────────────┼────────────┼───────────────────┤\n",
              "│ decoder_stage1a_co… │ (\u001b[38;5;45mNone\u001b[0m, \u001b[38;5;34m8\u001b[0m, \u001b[38;5;34m8\u001b[0m, \u001b[38;5;34m8\u001b[0m,   │  \u001b[38;5;34m2,654,208\u001b[0m │ decoder_stage1_c… │\n",
              "│ (\u001b[38;5;33mConv3D\u001b[0m)            │ \u001b[38;5;34m128\u001b[0m)              │            │                   │\n",
              "├─────────────────────┼───────────────────┼────────────┼───────────────────┤\n",
              "│ decoder_stage1a_bn  │ (\u001b[38;5;45mNone\u001b[0m, \u001b[38;5;34m8\u001b[0m, \u001b[38;5;34m8\u001b[0m, \u001b[38;5;34m8\u001b[0m,   │        \u001b[38;5;34m512\u001b[0m │ decoder_stage1a_… │\n",
              "│ (\u001b[38;5;33mBatchNormalizatio…\u001b[0m │ \u001b[38;5;34m128\u001b[0m)              │            │                   │\n",
              "├─────────────────────┼───────────────────┼────────────┼───────────────────┤\n",
              "│ decoder_stage1a_re… │ (\u001b[38;5;45mNone\u001b[0m, \u001b[38;5;34m8\u001b[0m, \u001b[38;5;34m8\u001b[0m, \u001b[38;5;34m8\u001b[0m,   │          \u001b[38;5;34m0\u001b[0m │ decoder_stage1a_… │\n",
              "│ (\u001b[38;5;33mActivation\u001b[0m)        │ \u001b[38;5;34m128\u001b[0m)              │            │                   │\n",
              "├─────────────────────┼───────────────────┼────────────┼───────────────────┤\n",
              "│ decoder_stage1b_co… │ (\u001b[38;5;45mNone\u001b[0m, \u001b[38;5;34m8\u001b[0m, \u001b[38;5;34m8\u001b[0m, \u001b[38;5;34m8\u001b[0m,   │    \u001b[38;5;34m442,368\u001b[0m │ decoder_stage1a_… │\n",
              "│ (\u001b[38;5;33mConv3D\u001b[0m)            │ \u001b[38;5;34m128\u001b[0m)              │            │                   │\n",
              "├─────────────────────┼───────────────────┼────────────┼───────────────────┤\n",
              "│ decoder_stage1b_bn  │ (\u001b[38;5;45mNone\u001b[0m, \u001b[38;5;34m8\u001b[0m, \u001b[38;5;34m8\u001b[0m, \u001b[38;5;34m8\u001b[0m,   │        \u001b[38;5;34m512\u001b[0m │ decoder_stage1b_… │\n",
              "│ (\u001b[38;5;33mBatchNormalizatio…\u001b[0m │ \u001b[38;5;34m128\u001b[0m)              │            │                   │\n",
              "├─────────────────────┼───────────────────┼────────────┼───────────────────┤\n",
              "│ decoder_stage1b_re… │ (\u001b[38;5;45mNone\u001b[0m, \u001b[38;5;34m8\u001b[0m, \u001b[38;5;34m8\u001b[0m, \u001b[38;5;34m8\u001b[0m,   │          \u001b[38;5;34m0\u001b[0m │ decoder_stage1b_… │\n",
              "│ (\u001b[38;5;33mActivation\u001b[0m)        │ \u001b[38;5;34m128\u001b[0m)              │            │                   │\n",
              "├─────────────────────┼───────────────────┼────────────┼───────────────────┤\n",
              "│ decoder_stage2_ups… │ (\u001b[38;5;45mNone\u001b[0m, \u001b[38;5;34m16\u001b[0m, \u001b[38;5;34m16\u001b[0m,    │          \u001b[38;5;34m0\u001b[0m │ decoder_stage1b_… │\n",
              "│ (\u001b[38;5;33mUpSampling3D\u001b[0m)      │ \u001b[38;5;34m16\u001b[0m, \u001b[38;5;34m128\u001b[0m)          │            │                   │\n",
              "├─────────────────────┼───────────────────┼────────────┼───────────────────┤\n",
              "│ decoder_stage2_con… │ (\u001b[38;5;45mNone\u001b[0m, \u001b[38;5;34m16\u001b[0m, \u001b[38;5;34m16\u001b[0m,    │          \u001b[38;5;34m0\u001b[0m │ decoder_stage2_u… │\n",
              "│ (\u001b[38;5;33mConcatenate\u001b[0m)       │ \u001b[38;5;34m16\u001b[0m, \u001b[38;5;34m384\u001b[0m)          │            │ block3_conv3[\u001b[38;5;34m0\u001b[0m][\u001b[38;5;34m…\u001b[0m │\n",
              "├─────────────────────┼───────────────────┼────────────┼───────────────────┤\n",
              "│ decoder_stage2a_co… │ (\u001b[38;5;45mNone\u001b[0m, \u001b[38;5;34m16\u001b[0m, \u001b[38;5;34m16\u001b[0m,    │    \u001b[38;5;34m663,552\u001b[0m │ decoder_stage2_c… │\n",
              "│ (\u001b[38;5;33mConv3D\u001b[0m)            │ \u001b[38;5;34m16\u001b[0m, \u001b[38;5;34m64\u001b[0m)           │            │                   │\n",
              "├─────────────────────┼───────────────────┼────────────┼───────────────────┤\n",
              "│ decoder_stage2a_bn  │ (\u001b[38;5;45mNone\u001b[0m, \u001b[38;5;34m16\u001b[0m, \u001b[38;5;34m16\u001b[0m,    │        \u001b[38;5;34m256\u001b[0m │ decoder_stage2a_… │\n",
              "│ (\u001b[38;5;33mBatchNormalizatio…\u001b[0m │ \u001b[38;5;34m16\u001b[0m, \u001b[38;5;34m64\u001b[0m)           │            │                   │\n",
              "├─────────────────────┼───────────────────┼────────────┼───────────────────┤\n",
              "│ decoder_stage2a_re… │ (\u001b[38;5;45mNone\u001b[0m, \u001b[38;5;34m16\u001b[0m, \u001b[38;5;34m16\u001b[0m,    │          \u001b[38;5;34m0\u001b[0m │ decoder_stage2a_… │\n",
              "│ (\u001b[38;5;33mActivation\u001b[0m)        │ \u001b[38;5;34m16\u001b[0m, \u001b[38;5;34m64\u001b[0m)           │            │                   │\n",
              "├─────────────────────┼───────────────────┼────────────┼───────────────────┤\n",
              "│ decoder_stage2b_co… │ (\u001b[38;5;45mNone\u001b[0m, \u001b[38;5;34m16\u001b[0m, \u001b[38;5;34m16\u001b[0m,    │    \u001b[38;5;34m110,592\u001b[0m │ decoder_stage2a_… │\n",
              "│ (\u001b[38;5;33mConv3D\u001b[0m)            │ \u001b[38;5;34m16\u001b[0m, \u001b[38;5;34m64\u001b[0m)           │            │                   │\n",
              "├─────────────────────┼───────────────────┼────────────┼───────────────────┤\n",
              "│ decoder_stage2b_bn  │ (\u001b[38;5;45mNone\u001b[0m, \u001b[38;5;34m16\u001b[0m, \u001b[38;5;34m16\u001b[0m,    │        \u001b[38;5;34m256\u001b[0m │ decoder_stage2b_… │\n",
              "│ (\u001b[38;5;33mBatchNormalizatio…\u001b[0m │ \u001b[38;5;34m16\u001b[0m, \u001b[38;5;34m64\u001b[0m)           │            │                   │\n",
              "├─────────────────────┼───────────────────┼────────────┼───────────────────┤\n",
              "│ decoder_stage2b_re… │ (\u001b[38;5;45mNone\u001b[0m, \u001b[38;5;34m16\u001b[0m, \u001b[38;5;34m16\u001b[0m,    │          \u001b[38;5;34m0\u001b[0m │ decoder_stage2b_… │\n",
              "│ (\u001b[38;5;33mActivation\u001b[0m)        │ \u001b[38;5;34m16\u001b[0m, \u001b[38;5;34m64\u001b[0m)           │            │                   │\n",
              "├─────────────────────┼───────────────────┼────────────┼───────────────────┤\n",
              "│ decoder_stage3_ups… │ (\u001b[38;5;45mNone\u001b[0m, \u001b[38;5;34m32\u001b[0m, \u001b[38;5;34m32\u001b[0m,    │          \u001b[38;5;34m0\u001b[0m │ decoder_stage2b_… │\n",
              "│ (\u001b[38;5;33mUpSampling3D\u001b[0m)      │ \u001b[38;5;34m32\u001b[0m, \u001b[38;5;34m64\u001b[0m)           │            │                   │\n",
              "├─────────────────────┼───────────────────┼────────────┼───────────────────┤\n",
              "│ decoder_stage3_con… │ (\u001b[38;5;45mNone\u001b[0m, \u001b[38;5;34m32\u001b[0m, \u001b[38;5;34m32\u001b[0m,    │          \u001b[38;5;34m0\u001b[0m │ decoder_stage3_u… │\n",
              "│ (\u001b[38;5;33mConcatenate\u001b[0m)       │ \u001b[38;5;34m32\u001b[0m, \u001b[38;5;34m192\u001b[0m)          │            │ block2_conv2[\u001b[38;5;34m0\u001b[0m][\u001b[38;5;34m…\u001b[0m │\n",
              "├─────────────────────┼───────────────────┼────────────┼───────────────────┤\n",
              "│ decoder_stage3a_co… │ (\u001b[38;5;45mNone\u001b[0m, \u001b[38;5;34m32\u001b[0m, \u001b[38;5;34m32\u001b[0m,    │    \u001b[38;5;34m165,888\u001b[0m │ decoder_stage3_c… │\n",
              "│ (\u001b[38;5;33mConv3D\u001b[0m)            │ \u001b[38;5;34m32\u001b[0m, \u001b[38;5;34m32\u001b[0m)           │            │                   │\n",
              "├─────────────────────┼───────────────────┼────────────┼───────────────────┤\n",
              "│ decoder_stage3a_bn  │ (\u001b[38;5;45mNone\u001b[0m, \u001b[38;5;34m32\u001b[0m, \u001b[38;5;34m32\u001b[0m,    │        \u001b[38;5;34m128\u001b[0m │ decoder_stage3a_… │\n",
              "│ (\u001b[38;5;33mBatchNormalizatio…\u001b[0m │ \u001b[38;5;34m32\u001b[0m, \u001b[38;5;34m32\u001b[0m)           │            │                   │\n",
              "├─────────────────────┼───────────────────┼────────────┼───────────────────┤\n",
              "│ decoder_stage3a_re… │ (\u001b[38;5;45mNone\u001b[0m, \u001b[38;5;34m32\u001b[0m, \u001b[38;5;34m32\u001b[0m,    │          \u001b[38;5;34m0\u001b[0m │ decoder_stage3a_… │\n",
              "│ (\u001b[38;5;33mActivation\u001b[0m)        │ \u001b[38;5;34m32\u001b[0m, \u001b[38;5;34m32\u001b[0m)           │            │                   │\n",
              "├─────────────────────┼───────────────────┼────────────┼───────────────────┤\n",
              "│ decoder_stage3b_co… │ (\u001b[38;5;45mNone\u001b[0m, \u001b[38;5;34m32\u001b[0m, \u001b[38;5;34m32\u001b[0m,    │     \u001b[38;5;34m27,648\u001b[0m │ decoder_stage3a_… │\n",
              "│ (\u001b[38;5;33mConv3D\u001b[0m)            │ \u001b[38;5;34m32\u001b[0m, \u001b[38;5;34m32\u001b[0m)           │            │                   │\n",
              "├─────────────────────┼───────────────────┼────────────┼───────────────────┤\n",
              "│ decoder_stage3b_bn  │ (\u001b[38;5;45mNone\u001b[0m, \u001b[38;5;34m32\u001b[0m, \u001b[38;5;34m32\u001b[0m,    │        \u001b[38;5;34m128\u001b[0m │ decoder_stage3b_… │\n",
              "│ (\u001b[38;5;33mBatchNormalizatio…\u001b[0m │ \u001b[38;5;34m32\u001b[0m, \u001b[38;5;34m32\u001b[0m)           │            │                   │\n",
              "├─────────────────────┼───────────────────┼────────────┼───────────────────┤\n",
              "│ decoder_stage3b_re… │ (\u001b[38;5;45mNone\u001b[0m, \u001b[38;5;34m32\u001b[0m, \u001b[38;5;34m32\u001b[0m,    │          \u001b[38;5;34m0\u001b[0m │ decoder_stage3b_… │\n",
              "│ (\u001b[38;5;33mActivation\u001b[0m)        │ \u001b[38;5;34m32\u001b[0m, \u001b[38;5;34m32\u001b[0m)           │            │                   │\n",
              "├─────────────────────┼───────────────────┼────────────┼───────────────────┤\n",
              "│ decoder_stage4_ups… │ (\u001b[38;5;45mNone\u001b[0m, \u001b[38;5;34m64\u001b[0m, \u001b[38;5;34m64\u001b[0m,    │          \u001b[38;5;34m0\u001b[0m │ decoder_stage3b_… │\n",
              "│ (\u001b[38;5;33mUpSampling3D\u001b[0m)      │ \u001b[38;5;34m64\u001b[0m, \u001b[38;5;34m32\u001b[0m)           │            │                   │\n",
              "├─────────────────────┼───────────────────┼────────────┼───────────────────┤\n",
              "│ decoder_stage4a_co… │ (\u001b[38;5;45mNone\u001b[0m, \u001b[38;5;34m64\u001b[0m, \u001b[38;5;34m64\u001b[0m,    │     \u001b[38;5;34m13,824\u001b[0m │ decoder_stage4_u… │\n",
              "│ (\u001b[38;5;33mConv3D\u001b[0m)            │ \u001b[38;5;34m64\u001b[0m, \u001b[38;5;34m16\u001b[0m)           │            │                   │\n",
              "├─────────────────────┼───────────────────┼────────────┼───────────────────┤\n",
              "│ decoder_stage4a_bn  │ (\u001b[38;5;45mNone\u001b[0m, \u001b[38;5;34m64\u001b[0m, \u001b[38;5;34m64\u001b[0m,    │         \u001b[38;5;34m64\u001b[0m │ decoder_stage4a_… │\n",
              "│ (\u001b[38;5;33mBatchNormalizatio…\u001b[0m │ \u001b[38;5;34m64\u001b[0m, \u001b[38;5;34m16\u001b[0m)           │            │                   │\n",
              "├─────────────────────┼───────────────────┼────────────┼───────────────────┤\n",
              "│ decoder_stage4a_re… │ (\u001b[38;5;45mNone\u001b[0m, \u001b[38;5;34m64\u001b[0m, \u001b[38;5;34m64\u001b[0m,    │          \u001b[38;5;34m0\u001b[0m │ decoder_stage4a_… │\n",
              "│ (\u001b[38;5;33mActivation\u001b[0m)        │ \u001b[38;5;34m64\u001b[0m, \u001b[38;5;34m16\u001b[0m)           │            │                   │\n",
              "├─────────────────────┼───────────────────┼────────────┼───────────────────┤\n",
              "│ decoder_stage4b_co… │ (\u001b[38;5;45mNone\u001b[0m, \u001b[38;5;34m64\u001b[0m, \u001b[38;5;34m64\u001b[0m,    │      \u001b[38;5;34m6,912\u001b[0m │ decoder_stage4a_… │\n",
              "│ (\u001b[38;5;33mConv3D\u001b[0m)            │ \u001b[38;5;34m64\u001b[0m, \u001b[38;5;34m16\u001b[0m)           │            │                   │\n",
              "├─────────────────────┼───────────────────┼────────────┼───────────────────┤\n",
              "│ decoder_stage4b_bn  │ (\u001b[38;5;45mNone\u001b[0m, \u001b[38;5;34m64\u001b[0m, \u001b[38;5;34m64\u001b[0m,    │         \u001b[38;5;34m64\u001b[0m │ decoder_stage4b_… │\n",
              "│ (\u001b[38;5;33mBatchNormalizatio…\u001b[0m │ \u001b[38;5;34m64\u001b[0m, \u001b[38;5;34m16\u001b[0m)           │            │                   │\n",
              "├─────────────────────┼───────────────────┼────────────┼───────────────────┤\n",
              "│ decoder_stage4b_re… │ (\u001b[38;5;45mNone\u001b[0m, \u001b[38;5;34m64\u001b[0m, \u001b[38;5;34m64\u001b[0m,    │          \u001b[38;5;34m0\u001b[0m │ decoder_stage4b_… │\n",
              "│ (\u001b[38;5;33mActivation\u001b[0m)        │ \u001b[38;5;34m64\u001b[0m, \u001b[38;5;34m16\u001b[0m)           │            │                   │\n",
              "├─────────────────────┼───────────────────┼────────────┼───────────────────┤\n",
              "│ final_conv (\u001b[38;5;33mConv3D\u001b[0m) │ (\u001b[38;5;45mNone\u001b[0m, \u001b[38;5;34m64\u001b[0m, \u001b[38;5;34m64\u001b[0m,    │        \u001b[38;5;34m866\u001b[0m │ decoder_stage4b_… │\n",
              "│                     │ \u001b[38;5;34m64\u001b[0m, \u001b[38;5;34m2\u001b[0m)            │            │                   │\n",
              "├─────────────────────┼───────────────────┼────────────┼───────────────────┤\n",
              "│ softmax             │ (\u001b[38;5;45mNone\u001b[0m, \u001b[38;5;34m64\u001b[0m, \u001b[38;5;34m64\u001b[0m,    │          \u001b[38;5;34m0\u001b[0m │ final_conv[\u001b[38;5;34m0\u001b[0m][\u001b[38;5;34m0\u001b[0m]  │\n",
              "│ (\u001b[38;5;33mActivation\u001b[0m)        │ \u001b[38;5;34m64\u001b[0m, \u001b[38;5;34m2\u001b[0m)            │            │                   │\n",
              "└─────────────────────┴───────────────────┴────────────┴───────────────────┘\n"
            ],
            "text/html": [
              "<pre style=\"white-space:pre;overflow-x:auto;line-height:normal;font-family:Menlo,'DejaVu Sans Mono',consolas,'Courier New',monospace\">┏━━━━━━━━━━━━━━━━━━━━━┳━━━━━━━━━━━━━━━━━━━┳━━━━━━━━━━━━┳━━━━━━━━━━━━━━━━━━━┓\n",
              "┃<span style=\"font-weight: bold\"> Layer (type)        </span>┃<span style=\"font-weight: bold\"> Output Shape      </span>┃<span style=\"font-weight: bold\">    Param # </span>┃<span style=\"font-weight: bold\"> Connected to      </span>┃\n",
              "┡━━━━━━━━━━━━━━━━━━━━━╇━━━━━━━━━━━━━━━━━━━╇━━━━━━━━━━━━╇━━━━━━━━━━━━━━━━━━━┩\n",
              "│ input_layer         │ (<span style=\"color: #00d7ff; text-decoration-color: #00d7ff\">None</span>, <span style=\"color: #00af00; text-decoration-color: #00af00\">64</span>, <span style=\"color: #00af00; text-decoration-color: #00af00\">64</span>,    │          <span style=\"color: #00af00; text-decoration-color: #00af00\">0</span> │ -                 │\n",
              "│ (<span style=\"color: #0087ff; text-decoration-color: #0087ff\">InputLayer</span>)        │ <span style=\"color: #00af00; text-decoration-color: #00af00\">64</span>, <span style=\"color: #00af00; text-decoration-color: #00af00\">3</span>)            │            │                   │\n",
              "├─────────────────────┼───────────────────┼────────────┼───────────────────┤\n",
              "│ block1_conv1        │ (<span style=\"color: #00d7ff; text-decoration-color: #00d7ff\">None</span>, <span style=\"color: #00af00; text-decoration-color: #00af00\">64</span>, <span style=\"color: #00af00; text-decoration-color: #00af00\">64</span>,    │      <span style=\"color: #00af00; text-decoration-color: #00af00\">5,248</span> │ input_layer[<span style=\"color: #00af00; text-decoration-color: #00af00\">0</span>][<span style=\"color: #00af00; text-decoration-color: #00af00\">0</span>] │\n",
              "│ (<span style=\"color: #0087ff; text-decoration-color: #0087ff\">Conv3D</span>)            │ <span style=\"color: #00af00; text-decoration-color: #00af00\">64</span>, <span style=\"color: #00af00; text-decoration-color: #00af00\">64</span>)           │            │                   │\n",
              "├─────────────────────┼───────────────────┼────────────┼───────────────────┤\n",
              "│ block1_conv2        │ (<span style=\"color: #00d7ff; text-decoration-color: #00d7ff\">None</span>, <span style=\"color: #00af00; text-decoration-color: #00af00\">64</span>, <span style=\"color: #00af00; text-decoration-color: #00af00\">64</span>,    │    <span style=\"color: #00af00; text-decoration-color: #00af00\">110,656</span> │ block1_conv1[<span style=\"color: #00af00; text-decoration-color: #00af00\">0</span>][<span style=\"color: #00af00; text-decoration-color: #00af00\">…</span> │\n",
              "│ (<span style=\"color: #0087ff; text-decoration-color: #0087ff\">Conv3D</span>)            │ <span style=\"color: #00af00; text-decoration-color: #00af00\">64</span>, <span style=\"color: #00af00; text-decoration-color: #00af00\">64</span>)           │            │                   │\n",
              "├─────────────────────┼───────────────────┼────────────┼───────────────────┤\n",
              "│ block1_pool         │ (<span style=\"color: #00d7ff; text-decoration-color: #00d7ff\">None</span>, <span style=\"color: #00af00; text-decoration-color: #00af00\">32</span>, <span style=\"color: #00af00; text-decoration-color: #00af00\">32</span>,    │          <span style=\"color: #00af00; text-decoration-color: #00af00\">0</span> │ block1_conv2[<span style=\"color: #00af00; text-decoration-color: #00af00\">0</span>][<span style=\"color: #00af00; text-decoration-color: #00af00\">…</span> │\n",
              "│ (<span style=\"color: #0087ff; text-decoration-color: #0087ff\">MaxPooling3D</span>)      │ <span style=\"color: #00af00; text-decoration-color: #00af00\">32</span>, <span style=\"color: #00af00; text-decoration-color: #00af00\">64</span>)           │            │                   │\n",
              "├─────────────────────┼───────────────────┼────────────┼───────────────────┤\n",
              "│ block2_conv1        │ (<span style=\"color: #00d7ff; text-decoration-color: #00d7ff\">None</span>, <span style=\"color: #00af00; text-decoration-color: #00af00\">32</span>, <span style=\"color: #00af00; text-decoration-color: #00af00\">32</span>,    │    <span style=\"color: #00af00; text-decoration-color: #00af00\">221,312</span> │ block1_pool[<span style=\"color: #00af00; text-decoration-color: #00af00\">0</span>][<span style=\"color: #00af00; text-decoration-color: #00af00\">0</span>] │\n",
              "│ (<span style=\"color: #0087ff; text-decoration-color: #0087ff\">Conv3D</span>)            │ <span style=\"color: #00af00; text-decoration-color: #00af00\">32</span>, <span style=\"color: #00af00; text-decoration-color: #00af00\">128</span>)          │            │                   │\n",
              "├─────────────────────┼───────────────────┼────────────┼───────────────────┤\n",
              "│ block2_conv2        │ (<span style=\"color: #00d7ff; text-decoration-color: #00d7ff\">None</span>, <span style=\"color: #00af00; text-decoration-color: #00af00\">32</span>, <span style=\"color: #00af00; text-decoration-color: #00af00\">32</span>,    │    <span style=\"color: #00af00; text-decoration-color: #00af00\">442,496</span> │ block2_conv1[<span style=\"color: #00af00; text-decoration-color: #00af00\">0</span>][<span style=\"color: #00af00; text-decoration-color: #00af00\">…</span> │\n",
              "│ (<span style=\"color: #0087ff; text-decoration-color: #0087ff\">Conv3D</span>)            │ <span style=\"color: #00af00; text-decoration-color: #00af00\">32</span>, <span style=\"color: #00af00; text-decoration-color: #00af00\">128</span>)          │            │                   │\n",
              "├─────────────────────┼───────────────────┼────────────┼───────────────────┤\n",
              "│ block2_pool         │ (<span style=\"color: #00d7ff; text-decoration-color: #00d7ff\">None</span>, <span style=\"color: #00af00; text-decoration-color: #00af00\">16</span>, <span style=\"color: #00af00; text-decoration-color: #00af00\">16</span>,    │          <span style=\"color: #00af00; text-decoration-color: #00af00\">0</span> │ block2_conv2[<span style=\"color: #00af00; text-decoration-color: #00af00\">0</span>][<span style=\"color: #00af00; text-decoration-color: #00af00\">…</span> │\n",
              "│ (<span style=\"color: #0087ff; text-decoration-color: #0087ff\">MaxPooling3D</span>)      │ <span style=\"color: #00af00; text-decoration-color: #00af00\">16</span>, <span style=\"color: #00af00; text-decoration-color: #00af00\">128</span>)          │            │                   │\n",
              "├─────────────────────┼───────────────────┼────────────┼───────────────────┤\n",
              "│ block3_conv1        │ (<span style=\"color: #00d7ff; text-decoration-color: #00d7ff\">None</span>, <span style=\"color: #00af00; text-decoration-color: #00af00\">16</span>, <span style=\"color: #00af00; text-decoration-color: #00af00\">16</span>,    │    <span style=\"color: #00af00; text-decoration-color: #00af00\">884,992</span> │ block2_pool[<span style=\"color: #00af00; text-decoration-color: #00af00\">0</span>][<span style=\"color: #00af00; text-decoration-color: #00af00\">0</span>] │\n",
              "│ (<span style=\"color: #0087ff; text-decoration-color: #0087ff\">Conv3D</span>)            │ <span style=\"color: #00af00; text-decoration-color: #00af00\">16</span>, <span style=\"color: #00af00; text-decoration-color: #00af00\">256</span>)          │            │                   │\n",
              "├─────────────────────┼───────────────────┼────────────┼───────────────────┤\n",
              "│ block3_conv2        │ (<span style=\"color: #00d7ff; text-decoration-color: #00d7ff\">None</span>, <span style=\"color: #00af00; text-decoration-color: #00af00\">16</span>, <span style=\"color: #00af00; text-decoration-color: #00af00\">16</span>,    │  <span style=\"color: #00af00; text-decoration-color: #00af00\">1,769,728</span> │ block3_conv1[<span style=\"color: #00af00; text-decoration-color: #00af00\">0</span>][<span style=\"color: #00af00; text-decoration-color: #00af00\">…</span> │\n",
              "│ (<span style=\"color: #0087ff; text-decoration-color: #0087ff\">Conv3D</span>)            │ <span style=\"color: #00af00; text-decoration-color: #00af00\">16</span>, <span style=\"color: #00af00; text-decoration-color: #00af00\">256</span>)          │            │                   │\n",
              "├─────────────────────┼───────────────────┼────────────┼───────────────────┤\n",
              "│ block3_conv3        │ (<span style=\"color: #00d7ff; text-decoration-color: #00d7ff\">None</span>, <span style=\"color: #00af00; text-decoration-color: #00af00\">16</span>, <span style=\"color: #00af00; text-decoration-color: #00af00\">16</span>,    │  <span style=\"color: #00af00; text-decoration-color: #00af00\">1,769,728</span> │ block3_conv2[<span style=\"color: #00af00; text-decoration-color: #00af00\">0</span>][<span style=\"color: #00af00; text-decoration-color: #00af00\">…</span> │\n",
              "│ (<span style=\"color: #0087ff; text-decoration-color: #0087ff\">Conv3D</span>)            │ <span style=\"color: #00af00; text-decoration-color: #00af00\">16</span>, <span style=\"color: #00af00; text-decoration-color: #00af00\">256</span>)          │            │                   │\n",
              "├─────────────────────┼───────────────────┼────────────┼───────────────────┤\n",
              "│ block3_pool         │ (<span style=\"color: #00d7ff; text-decoration-color: #00d7ff\">None</span>, <span style=\"color: #00af00; text-decoration-color: #00af00\">8</span>, <span style=\"color: #00af00; text-decoration-color: #00af00\">8</span>, <span style=\"color: #00af00; text-decoration-color: #00af00\">8</span>,   │          <span style=\"color: #00af00; text-decoration-color: #00af00\">0</span> │ block3_conv3[<span style=\"color: #00af00; text-decoration-color: #00af00\">0</span>][<span style=\"color: #00af00; text-decoration-color: #00af00\">…</span> │\n",
              "│ (<span style=\"color: #0087ff; text-decoration-color: #0087ff\">MaxPooling3D</span>)      │ <span style=\"color: #00af00; text-decoration-color: #00af00\">256</span>)              │            │                   │\n",
              "├─────────────────────┼───────────────────┼────────────┼───────────────────┤\n",
              "│ block4_conv1        │ (<span style=\"color: #00d7ff; text-decoration-color: #00d7ff\">None</span>, <span style=\"color: #00af00; text-decoration-color: #00af00\">8</span>, <span style=\"color: #00af00; text-decoration-color: #00af00\">8</span>, <span style=\"color: #00af00; text-decoration-color: #00af00\">8</span>,   │  <span style=\"color: #00af00; text-decoration-color: #00af00\">3,539,456</span> │ block3_pool[<span style=\"color: #00af00; text-decoration-color: #00af00\">0</span>][<span style=\"color: #00af00; text-decoration-color: #00af00\">0</span>] │\n",
              "│ (<span style=\"color: #0087ff; text-decoration-color: #0087ff\">Conv3D</span>)            │ <span style=\"color: #00af00; text-decoration-color: #00af00\">512</span>)              │            │                   │\n",
              "├─────────────────────┼───────────────────┼────────────┼───────────────────┤\n",
              "│ block4_conv2        │ (<span style=\"color: #00d7ff; text-decoration-color: #00d7ff\">None</span>, <span style=\"color: #00af00; text-decoration-color: #00af00\">8</span>, <span style=\"color: #00af00; text-decoration-color: #00af00\">8</span>, <span style=\"color: #00af00; text-decoration-color: #00af00\">8</span>,   │  <span style=\"color: #00af00; text-decoration-color: #00af00\">7,078,400</span> │ block4_conv1[<span style=\"color: #00af00; text-decoration-color: #00af00\">0</span>][<span style=\"color: #00af00; text-decoration-color: #00af00\">…</span> │\n",
              "│ (<span style=\"color: #0087ff; text-decoration-color: #0087ff\">Conv3D</span>)            │ <span style=\"color: #00af00; text-decoration-color: #00af00\">512</span>)              │            │                   │\n",
              "├─────────────────────┼───────────────────┼────────────┼───────────────────┤\n",
              "│ block4_conv3        │ (<span style=\"color: #00d7ff; text-decoration-color: #00d7ff\">None</span>, <span style=\"color: #00af00; text-decoration-color: #00af00\">8</span>, <span style=\"color: #00af00; text-decoration-color: #00af00\">8</span>, <span style=\"color: #00af00; text-decoration-color: #00af00\">8</span>,   │  <span style=\"color: #00af00; text-decoration-color: #00af00\">7,078,400</span> │ block4_conv2[<span style=\"color: #00af00; text-decoration-color: #00af00\">0</span>][<span style=\"color: #00af00; text-decoration-color: #00af00\">…</span> │\n",
              "│ (<span style=\"color: #0087ff; text-decoration-color: #0087ff\">Conv3D</span>)            │ <span style=\"color: #00af00; text-decoration-color: #00af00\">512</span>)              │            │                   │\n",
              "├─────────────────────┼───────────────────┼────────────┼───────────────────┤\n",
              "│ block4_pool         │ (<span style=\"color: #00d7ff; text-decoration-color: #00d7ff\">None</span>, <span style=\"color: #00af00; text-decoration-color: #00af00\">4</span>, <span style=\"color: #00af00; text-decoration-color: #00af00\">4</span>, <span style=\"color: #00af00; text-decoration-color: #00af00\">4</span>,   │          <span style=\"color: #00af00; text-decoration-color: #00af00\">0</span> │ block4_conv3[<span style=\"color: #00af00; text-decoration-color: #00af00\">0</span>][<span style=\"color: #00af00; text-decoration-color: #00af00\">…</span> │\n",
              "│ (<span style=\"color: #0087ff; text-decoration-color: #0087ff\">MaxPooling3D</span>)      │ <span style=\"color: #00af00; text-decoration-color: #00af00\">512</span>)              │            │                   │\n",
              "├─────────────────────┼───────────────────┼────────────┼───────────────────┤\n",
              "│ block5_conv1        │ (<span style=\"color: #00d7ff; text-decoration-color: #00d7ff\">None</span>, <span style=\"color: #00af00; text-decoration-color: #00af00\">4</span>, <span style=\"color: #00af00; text-decoration-color: #00af00\">4</span>, <span style=\"color: #00af00; text-decoration-color: #00af00\">4</span>,   │  <span style=\"color: #00af00; text-decoration-color: #00af00\">7,078,400</span> │ block4_pool[<span style=\"color: #00af00; text-decoration-color: #00af00\">0</span>][<span style=\"color: #00af00; text-decoration-color: #00af00\">0</span>] │\n",
              "│ (<span style=\"color: #0087ff; text-decoration-color: #0087ff\">Conv3D</span>)            │ <span style=\"color: #00af00; text-decoration-color: #00af00\">512</span>)              │            │                   │\n",
              "├─────────────────────┼───────────────────┼────────────┼───────────────────┤\n",
              "│ block5_conv2        │ (<span style=\"color: #00d7ff; text-decoration-color: #00d7ff\">None</span>, <span style=\"color: #00af00; text-decoration-color: #00af00\">4</span>, <span style=\"color: #00af00; text-decoration-color: #00af00\">4</span>, <span style=\"color: #00af00; text-decoration-color: #00af00\">4</span>,   │  <span style=\"color: #00af00; text-decoration-color: #00af00\">7,078,400</span> │ block5_conv1[<span style=\"color: #00af00; text-decoration-color: #00af00\">0</span>][<span style=\"color: #00af00; text-decoration-color: #00af00\">…</span> │\n",
              "│ (<span style=\"color: #0087ff; text-decoration-color: #0087ff\">Conv3D</span>)            │ <span style=\"color: #00af00; text-decoration-color: #00af00\">512</span>)              │            │                   │\n",
              "├─────────────────────┼───────────────────┼────────────┼───────────────────┤\n",
              "│ block5_conv3        │ (<span style=\"color: #00d7ff; text-decoration-color: #00d7ff\">None</span>, <span style=\"color: #00af00; text-decoration-color: #00af00\">4</span>, <span style=\"color: #00af00; text-decoration-color: #00af00\">4</span>, <span style=\"color: #00af00; text-decoration-color: #00af00\">4</span>,   │  <span style=\"color: #00af00; text-decoration-color: #00af00\">7,078,400</span> │ block5_conv2[<span style=\"color: #00af00; text-decoration-color: #00af00\">0</span>][<span style=\"color: #00af00; text-decoration-color: #00af00\">…</span> │\n",
              "│ (<span style=\"color: #0087ff; text-decoration-color: #0087ff\">Conv3D</span>)            │ <span style=\"color: #00af00; text-decoration-color: #00af00\">512</span>)              │            │                   │\n",
              "├─────────────────────┼───────────────────┼────────────┼───────────────────┤\n",
              "│ block5_pool         │ (<span style=\"color: #00d7ff; text-decoration-color: #00d7ff\">None</span>, <span style=\"color: #00af00; text-decoration-color: #00af00\">2</span>, <span style=\"color: #00af00; text-decoration-color: #00af00\">2</span>, <span style=\"color: #00af00; text-decoration-color: #00af00\">2</span>,   │          <span style=\"color: #00af00; text-decoration-color: #00af00\">0</span> │ block5_conv3[<span style=\"color: #00af00; text-decoration-color: #00af00\">0</span>][<span style=\"color: #00af00; text-decoration-color: #00af00\">…</span> │\n",
              "│ (<span style=\"color: #0087ff; text-decoration-color: #0087ff\">MaxPooling3D</span>)      │ <span style=\"color: #00af00; text-decoration-color: #00af00\">512</span>)              │            │                   │\n",
              "├─────────────────────┼───────────────────┼────────────┼───────────────────┤\n",
              "│ center_block1_conv  │ (<span style=\"color: #00d7ff; text-decoration-color: #00d7ff\">None</span>, <span style=\"color: #00af00; text-decoration-color: #00af00\">2</span>, <span style=\"color: #00af00; text-decoration-color: #00af00\">2</span>, <span style=\"color: #00af00; text-decoration-color: #00af00\">2</span>,   │  <span style=\"color: #00af00; text-decoration-color: #00af00\">7,077,888</span> │ block5_pool[<span style=\"color: #00af00; text-decoration-color: #00af00\">0</span>][<span style=\"color: #00af00; text-decoration-color: #00af00\">0</span>] │\n",
              "│ (<span style=\"color: #0087ff; text-decoration-color: #0087ff\">Conv3D</span>)            │ <span style=\"color: #00af00; text-decoration-color: #00af00\">512</span>)              │            │                   │\n",
              "├─────────────────────┼───────────────────┼────────────┼───────────────────┤\n",
              "│ center_block1_bn    │ (<span style=\"color: #00d7ff; text-decoration-color: #00d7ff\">None</span>, <span style=\"color: #00af00; text-decoration-color: #00af00\">2</span>, <span style=\"color: #00af00; text-decoration-color: #00af00\">2</span>, <span style=\"color: #00af00; text-decoration-color: #00af00\">2</span>,   │      <span style=\"color: #00af00; text-decoration-color: #00af00\">2,048</span> │ center_block1_co… │\n",
              "│ (<span style=\"color: #0087ff; text-decoration-color: #0087ff\">BatchNormalizatio…</span> │ <span style=\"color: #00af00; text-decoration-color: #00af00\">512</span>)              │            │                   │\n",
              "├─────────────────────┼───────────────────┼────────────┼───────────────────┤\n",
              "│ center_block1_relu  │ (<span style=\"color: #00d7ff; text-decoration-color: #00d7ff\">None</span>, <span style=\"color: #00af00; text-decoration-color: #00af00\">2</span>, <span style=\"color: #00af00; text-decoration-color: #00af00\">2</span>, <span style=\"color: #00af00; text-decoration-color: #00af00\">2</span>,   │          <span style=\"color: #00af00; text-decoration-color: #00af00\">0</span> │ center_block1_bn… │\n",
              "│ (<span style=\"color: #0087ff; text-decoration-color: #0087ff\">Activation</span>)        │ <span style=\"color: #00af00; text-decoration-color: #00af00\">512</span>)              │            │                   │\n",
              "├─────────────────────┼───────────────────┼────────────┼───────────────────┤\n",
              "│ center_block2_conv  │ (<span style=\"color: #00d7ff; text-decoration-color: #00d7ff\">None</span>, <span style=\"color: #00af00; text-decoration-color: #00af00\">2</span>, <span style=\"color: #00af00; text-decoration-color: #00af00\">2</span>, <span style=\"color: #00af00; text-decoration-color: #00af00\">2</span>,   │  <span style=\"color: #00af00; text-decoration-color: #00af00\">7,077,888</span> │ center_block1_re… │\n",
              "│ (<span style=\"color: #0087ff; text-decoration-color: #0087ff\">Conv3D</span>)            │ <span style=\"color: #00af00; text-decoration-color: #00af00\">512</span>)              │            │                   │\n",
              "├─────────────────────┼───────────────────┼────────────┼───────────────────┤\n",
              "│ center_block2_bn    │ (<span style=\"color: #00d7ff; text-decoration-color: #00d7ff\">None</span>, <span style=\"color: #00af00; text-decoration-color: #00af00\">2</span>, <span style=\"color: #00af00; text-decoration-color: #00af00\">2</span>, <span style=\"color: #00af00; text-decoration-color: #00af00\">2</span>,   │      <span style=\"color: #00af00; text-decoration-color: #00af00\">2,048</span> │ center_block2_co… │\n",
              "│ (<span style=\"color: #0087ff; text-decoration-color: #0087ff\">BatchNormalizatio…</span> │ <span style=\"color: #00af00; text-decoration-color: #00af00\">512</span>)              │            │                   │\n",
              "├─────────────────────┼───────────────────┼────────────┼───────────────────┤\n",
              "│ center_block2_relu  │ (<span style=\"color: #00d7ff; text-decoration-color: #00d7ff\">None</span>, <span style=\"color: #00af00; text-decoration-color: #00af00\">2</span>, <span style=\"color: #00af00; text-decoration-color: #00af00\">2</span>, <span style=\"color: #00af00; text-decoration-color: #00af00\">2</span>,   │          <span style=\"color: #00af00; text-decoration-color: #00af00\">0</span> │ center_block2_bn… │\n",
              "│ (<span style=\"color: #0087ff; text-decoration-color: #0087ff\">Activation</span>)        │ <span style=\"color: #00af00; text-decoration-color: #00af00\">512</span>)              │            │                   │\n",
              "├─────────────────────┼───────────────────┼────────────┼───────────────────┤\n",
              "│ decoder_stage0_ups… │ (<span style=\"color: #00d7ff; text-decoration-color: #00d7ff\">None</span>, <span style=\"color: #00af00; text-decoration-color: #00af00\">4</span>, <span style=\"color: #00af00; text-decoration-color: #00af00\">4</span>, <span style=\"color: #00af00; text-decoration-color: #00af00\">4</span>,   │          <span style=\"color: #00af00; text-decoration-color: #00af00\">0</span> │ center_block2_re… │\n",
              "│ (<span style=\"color: #0087ff; text-decoration-color: #0087ff\">UpSampling3D</span>)      │ <span style=\"color: #00af00; text-decoration-color: #00af00\">512</span>)              │            │                   │\n",
              "├─────────────────────┼───────────────────┼────────────┼───────────────────┤\n",
              "│ decoder_stage0_con… │ (<span style=\"color: #00d7ff; text-decoration-color: #00d7ff\">None</span>, <span style=\"color: #00af00; text-decoration-color: #00af00\">4</span>, <span style=\"color: #00af00; text-decoration-color: #00af00\">4</span>, <span style=\"color: #00af00; text-decoration-color: #00af00\">4</span>,   │          <span style=\"color: #00af00; text-decoration-color: #00af00\">0</span> │ decoder_stage0_u… │\n",
              "│ (<span style=\"color: #0087ff; text-decoration-color: #0087ff\">Concatenate</span>)       │ <span style=\"color: #00af00; text-decoration-color: #00af00\">1024</span>)             │            │ block5_conv3[<span style=\"color: #00af00; text-decoration-color: #00af00\">0</span>][<span style=\"color: #00af00; text-decoration-color: #00af00\">…</span> │\n",
              "├─────────────────────┼───────────────────┼────────────┼───────────────────┤\n",
              "│ decoder_stage0a_co… │ (<span style=\"color: #00d7ff; text-decoration-color: #00d7ff\">None</span>, <span style=\"color: #00af00; text-decoration-color: #00af00\">4</span>, <span style=\"color: #00af00; text-decoration-color: #00af00\">4</span>, <span style=\"color: #00af00; text-decoration-color: #00af00\">4</span>,   │  <span style=\"color: #00af00; text-decoration-color: #00af00\">7,077,888</span> │ decoder_stage0_c… │\n",
              "│ (<span style=\"color: #0087ff; text-decoration-color: #0087ff\">Conv3D</span>)            │ <span style=\"color: #00af00; text-decoration-color: #00af00\">256</span>)              │            │                   │\n",
              "├─────────────────────┼───────────────────┼────────────┼───────────────────┤\n",
              "│ decoder_stage0a_bn  │ (<span style=\"color: #00d7ff; text-decoration-color: #00d7ff\">None</span>, <span style=\"color: #00af00; text-decoration-color: #00af00\">4</span>, <span style=\"color: #00af00; text-decoration-color: #00af00\">4</span>, <span style=\"color: #00af00; text-decoration-color: #00af00\">4</span>,   │      <span style=\"color: #00af00; text-decoration-color: #00af00\">1,024</span> │ decoder_stage0a_… │\n",
              "│ (<span style=\"color: #0087ff; text-decoration-color: #0087ff\">BatchNormalizatio…</span> │ <span style=\"color: #00af00; text-decoration-color: #00af00\">256</span>)              │            │                   │\n",
              "├─────────────────────┼───────────────────┼────────────┼───────────────────┤\n",
              "│ decoder_stage0a_re… │ (<span style=\"color: #00d7ff; text-decoration-color: #00d7ff\">None</span>, <span style=\"color: #00af00; text-decoration-color: #00af00\">4</span>, <span style=\"color: #00af00; text-decoration-color: #00af00\">4</span>, <span style=\"color: #00af00; text-decoration-color: #00af00\">4</span>,   │          <span style=\"color: #00af00; text-decoration-color: #00af00\">0</span> │ decoder_stage0a_… │\n",
              "│ (<span style=\"color: #0087ff; text-decoration-color: #0087ff\">Activation</span>)        │ <span style=\"color: #00af00; text-decoration-color: #00af00\">256</span>)              │            │                   │\n",
              "├─────────────────────┼───────────────────┼────────────┼───────────────────┤\n",
              "│ decoder_stage0b_co… │ (<span style=\"color: #00d7ff; text-decoration-color: #00d7ff\">None</span>, <span style=\"color: #00af00; text-decoration-color: #00af00\">4</span>, <span style=\"color: #00af00; text-decoration-color: #00af00\">4</span>, <span style=\"color: #00af00; text-decoration-color: #00af00\">4</span>,   │  <span style=\"color: #00af00; text-decoration-color: #00af00\">1,769,472</span> │ decoder_stage0a_… │\n",
              "│ (<span style=\"color: #0087ff; text-decoration-color: #0087ff\">Conv3D</span>)            │ <span style=\"color: #00af00; text-decoration-color: #00af00\">256</span>)              │            │                   │\n",
              "├─────────────────────┼───────────────────┼────────────┼───────────────────┤\n",
              "│ decoder_stage0b_bn  │ (<span style=\"color: #00d7ff; text-decoration-color: #00d7ff\">None</span>, <span style=\"color: #00af00; text-decoration-color: #00af00\">4</span>, <span style=\"color: #00af00; text-decoration-color: #00af00\">4</span>, <span style=\"color: #00af00; text-decoration-color: #00af00\">4</span>,   │      <span style=\"color: #00af00; text-decoration-color: #00af00\">1,024</span> │ decoder_stage0b_… │\n",
              "│ (<span style=\"color: #0087ff; text-decoration-color: #0087ff\">BatchNormalizatio…</span> │ <span style=\"color: #00af00; text-decoration-color: #00af00\">256</span>)              │            │                   │\n",
              "├─────────────────────┼───────────────────┼────────────┼───────────────────┤\n",
              "│ decoder_stage0b_re… │ (<span style=\"color: #00d7ff; text-decoration-color: #00d7ff\">None</span>, <span style=\"color: #00af00; text-decoration-color: #00af00\">4</span>, <span style=\"color: #00af00; text-decoration-color: #00af00\">4</span>, <span style=\"color: #00af00; text-decoration-color: #00af00\">4</span>,   │          <span style=\"color: #00af00; text-decoration-color: #00af00\">0</span> │ decoder_stage0b_… │\n",
              "│ (<span style=\"color: #0087ff; text-decoration-color: #0087ff\">Activation</span>)        │ <span style=\"color: #00af00; text-decoration-color: #00af00\">256</span>)              │            │                   │\n",
              "├─────────────────────┼───────────────────┼────────────┼───────────────────┤\n",
              "│ decoder_stage1_ups… │ (<span style=\"color: #00d7ff; text-decoration-color: #00d7ff\">None</span>, <span style=\"color: #00af00; text-decoration-color: #00af00\">8</span>, <span style=\"color: #00af00; text-decoration-color: #00af00\">8</span>, <span style=\"color: #00af00; text-decoration-color: #00af00\">8</span>,   │          <span style=\"color: #00af00; text-decoration-color: #00af00\">0</span> │ decoder_stage0b_… │\n",
              "│ (<span style=\"color: #0087ff; text-decoration-color: #0087ff\">UpSampling3D</span>)      │ <span style=\"color: #00af00; text-decoration-color: #00af00\">256</span>)              │            │                   │\n",
              "├─────────────────────┼───────────────────┼────────────┼───────────────────┤\n",
              "│ decoder_stage1_con… │ (<span style=\"color: #00d7ff; text-decoration-color: #00d7ff\">None</span>, <span style=\"color: #00af00; text-decoration-color: #00af00\">8</span>, <span style=\"color: #00af00; text-decoration-color: #00af00\">8</span>, <span style=\"color: #00af00; text-decoration-color: #00af00\">8</span>,   │          <span style=\"color: #00af00; text-decoration-color: #00af00\">0</span> │ decoder_stage1_u… │\n",
              "│ (<span style=\"color: #0087ff; text-decoration-color: #0087ff\">Concatenate</span>)       │ <span style=\"color: #00af00; text-decoration-color: #00af00\">768</span>)              │            │ block4_conv3[<span style=\"color: #00af00; text-decoration-color: #00af00\">0</span>][<span style=\"color: #00af00; text-decoration-color: #00af00\">…</span> │\n",
              "├─────────────────────┼───────────────────┼────────────┼───────────────────┤\n",
              "│ decoder_stage1a_co… │ (<span style=\"color: #00d7ff; text-decoration-color: #00d7ff\">None</span>, <span style=\"color: #00af00; text-decoration-color: #00af00\">8</span>, <span style=\"color: #00af00; text-decoration-color: #00af00\">8</span>, <span style=\"color: #00af00; text-decoration-color: #00af00\">8</span>,   │  <span style=\"color: #00af00; text-decoration-color: #00af00\">2,654,208</span> │ decoder_stage1_c… │\n",
              "│ (<span style=\"color: #0087ff; text-decoration-color: #0087ff\">Conv3D</span>)            │ <span style=\"color: #00af00; text-decoration-color: #00af00\">128</span>)              │            │                   │\n",
              "├─────────────────────┼───────────────────┼────────────┼───────────────────┤\n",
              "│ decoder_stage1a_bn  │ (<span style=\"color: #00d7ff; text-decoration-color: #00d7ff\">None</span>, <span style=\"color: #00af00; text-decoration-color: #00af00\">8</span>, <span style=\"color: #00af00; text-decoration-color: #00af00\">8</span>, <span style=\"color: #00af00; text-decoration-color: #00af00\">8</span>,   │        <span style=\"color: #00af00; text-decoration-color: #00af00\">512</span> │ decoder_stage1a_… │\n",
              "│ (<span style=\"color: #0087ff; text-decoration-color: #0087ff\">BatchNormalizatio…</span> │ <span style=\"color: #00af00; text-decoration-color: #00af00\">128</span>)              │            │                   │\n",
              "├─────────────────────┼───────────────────┼────────────┼───────────────────┤\n",
              "│ decoder_stage1a_re… │ (<span style=\"color: #00d7ff; text-decoration-color: #00d7ff\">None</span>, <span style=\"color: #00af00; text-decoration-color: #00af00\">8</span>, <span style=\"color: #00af00; text-decoration-color: #00af00\">8</span>, <span style=\"color: #00af00; text-decoration-color: #00af00\">8</span>,   │          <span style=\"color: #00af00; text-decoration-color: #00af00\">0</span> │ decoder_stage1a_… │\n",
              "│ (<span style=\"color: #0087ff; text-decoration-color: #0087ff\">Activation</span>)        │ <span style=\"color: #00af00; text-decoration-color: #00af00\">128</span>)              │            │                   │\n",
              "├─────────────────────┼───────────────────┼────────────┼───────────────────┤\n",
              "│ decoder_stage1b_co… │ (<span style=\"color: #00d7ff; text-decoration-color: #00d7ff\">None</span>, <span style=\"color: #00af00; text-decoration-color: #00af00\">8</span>, <span style=\"color: #00af00; text-decoration-color: #00af00\">8</span>, <span style=\"color: #00af00; text-decoration-color: #00af00\">8</span>,   │    <span style=\"color: #00af00; text-decoration-color: #00af00\">442,368</span> │ decoder_stage1a_… │\n",
              "│ (<span style=\"color: #0087ff; text-decoration-color: #0087ff\">Conv3D</span>)            │ <span style=\"color: #00af00; text-decoration-color: #00af00\">128</span>)              │            │                   │\n",
              "├─────────────────────┼───────────────────┼────────────┼───────────────────┤\n",
              "│ decoder_stage1b_bn  │ (<span style=\"color: #00d7ff; text-decoration-color: #00d7ff\">None</span>, <span style=\"color: #00af00; text-decoration-color: #00af00\">8</span>, <span style=\"color: #00af00; text-decoration-color: #00af00\">8</span>, <span style=\"color: #00af00; text-decoration-color: #00af00\">8</span>,   │        <span style=\"color: #00af00; text-decoration-color: #00af00\">512</span> │ decoder_stage1b_… │\n",
              "│ (<span style=\"color: #0087ff; text-decoration-color: #0087ff\">BatchNormalizatio…</span> │ <span style=\"color: #00af00; text-decoration-color: #00af00\">128</span>)              │            │                   │\n",
              "├─────────────────────┼───────────────────┼────────────┼───────────────────┤\n",
              "│ decoder_stage1b_re… │ (<span style=\"color: #00d7ff; text-decoration-color: #00d7ff\">None</span>, <span style=\"color: #00af00; text-decoration-color: #00af00\">8</span>, <span style=\"color: #00af00; text-decoration-color: #00af00\">8</span>, <span style=\"color: #00af00; text-decoration-color: #00af00\">8</span>,   │          <span style=\"color: #00af00; text-decoration-color: #00af00\">0</span> │ decoder_stage1b_… │\n",
              "│ (<span style=\"color: #0087ff; text-decoration-color: #0087ff\">Activation</span>)        │ <span style=\"color: #00af00; text-decoration-color: #00af00\">128</span>)              │            │                   │\n",
              "├─────────────────────┼───────────────────┼────────────┼───────────────────┤\n",
              "│ decoder_stage2_ups… │ (<span style=\"color: #00d7ff; text-decoration-color: #00d7ff\">None</span>, <span style=\"color: #00af00; text-decoration-color: #00af00\">16</span>, <span style=\"color: #00af00; text-decoration-color: #00af00\">16</span>,    │          <span style=\"color: #00af00; text-decoration-color: #00af00\">0</span> │ decoder_stage1b_… │\n",
              "│ (<span style=\"color: #0087ff; text-decoration-color: #0087ff\">UpSampling3D</span>)      │ <span style=\"color: #00af00; text-decoration-color: #00af00\">16</span>, <span style=\"color: #00af00; text-decoration-color: #00af00\">128</span>)          │            │                   │\n",
              "├─────────────────────┼───────────────────┼────────────┼───────────────────┤\n",
              "│ decoder_stage2_con… │ (<span style=\"color: #00d7ff; text-decoration-color: #00d7ff\">None</span>, <span style=\"color: #00af00; text-decoration-color: #00af00\">16</span>, <span style=\"color: #00af00; text-decoration-color: #00af00\">16</span>,    │          <span style=\"color: #00af00; text-decoration-color: #00af00\">0</span> │ decoder_stage2_u… │\n",
              "│ (<span style=\"color: #0087ff; text-decoration-color: #0087ff\">Concatenate</span>)       │ <span style=\"color: #00af00; text-decoration-color: #00af00\">16</span>, <span style=\"color: #00af00; text-decoration-color: #00af00\">384</span>)          │            │ block3_conv3[<span style=\"color: #00af00; text-decoration-color: #00af00\">0</span>][<span style=\"color: #00af00; text-decoration-color: #00af00\">…</span> │\n",
              "├─────────────────────┼───────────────────┼────────────┼───────────────────┤\n",
              "│ decoder_stage2a_co… │ (<span style=\"color: #00d7ff; text-decoration-color: #00d7ff\">None</span>, <span style=\"color: #00af00; text-decoration-color: #00af00\">16</span>, <span style=\"color: #00af00; text-decoration-color: #00af00\">16</span>,    │    <span style=\"color: #00af00; text-decoration-color: #00af00\">663,552</span> │ decoder_stage2_c… │\n",
              "│ (<span style=\"color: #0087ff; text-decoration-color: #0087ff\">Conv3D</span>)            │ <span style=\"color: #00af00; text-decoration-color: #00af00\">16</span>, <span style=\"color: #00af00; text-decoration-color: #00af00\">64</span>)           │            │                   │\n",
              "├─────────────────────┼───────────────────┼────────────┼───────────────────┤\n",
              "│ decoder_stage2a_bn  │ (<span style=\"color: #00d7ff; text-decoration-color: #00d7ff\">None</span>, <span style=\"color: #00af00; text-decoration-color: #00af00\">16</span>, <span style=\"color: #00af00; text-decoration-color: #00af00\">16</span>,    │        <span style=\"color: #00af00; text-decoration-color: #00af00\">256</span> │ decoder_stage2a_… │\n",
              "│ (<span style=\"color: #0087ff; text-decoration-color: #0087ff\">BatchNormalizatio…</span> │ <span style=\"color: #00af00; text-decoration-color: #00af00\">16</span>, <span style=\"color: #00af00; text-decoration-color: #00af00\">64</span>)           │            │                   │\n",
              "├─────────────────────┼───────────────────┼────────────┼───────────────────┤\n",
              "│ decoder_stage2a_re… │ (<span style=\"color: #00d7ff; text-decoration-color: #00d7ff\">None</span>, <span style=\"color: #00af00; text-decoration-color: #00af00\">16</span>, <span style=\"color: #00af00; text-decoration-color: #00af00\">16</span>,    │          <span style=\"color: #00af00; text-decoration-color: #00af00\">0</span> │ decoder_stage2a_… │\n",
              "│ (<span style=\"color: #0087ff; text-decoration-color: #0087ff\">Activation</span>)        │ <span style=\"color: #00af00; text-decoration-color: #00af00\">16</span>, <span style=\"color: #00af00; text-decoration-color: #00af00\">64</span>)           │            │                   │\n",
              "├─────────────────────┼───────────────────┼────────────┼───────────────────┤\n",
              "│ decoder_stage2b_co… │ (<span style=\"color: #00d7ff; text-decoration-color: #00d7ff\">None</span>, <span style=\"color: #00af00; text-decoration-color: #00af00\">16</span>, <span style=\"color: #00af00; text-decoration-color: #00af00\">16</span>,    │    <span style=\"color: #00af00; text-decoration-color: #00af00\">110,592</span> │ decoder_stage2a_… │\n",
              "│ (<span style=\"color: #0087ff; text-decoration-color: #0087ff\">Conv3D</span>)            │ <span style=\"color: #00af00; text-decoration-color: #00af00\">16</span>, <span style=\"color: #00af00; text-decoration-color: #00af00\">64</span>)           │            │                   │\n",
              "├─────────────────────┼───────────────────┼────────────┼───────────────────┤\n",
              "│ decoder_stage2b_bn  │ (<span style=\"color: #00d7ff; text-decoration-color: #00d7ff\">None</span>, <span style=\"color: #00af00; text-decoration-color: #00af00\">16</span>, <span style=\"color: #00af00; text-decoration-color: #00af00\">16</span>,    │        <span style=\"color: #00af00; text-decoration-color: #00af00\">256</span> │ decoder_stage2b_… │\n",
              "│ (<span style=\"color: #0087ff; text-decoration-color: #0087ff\">BatchNormalizatio…</span> │ <span style=\"color: #00af00; text-decoration-color: #00af00\">16</span>, <span style=\"color: #00af00; text-decoration-color: #00af00\">64</span>)           │            │                   │\n",
              "├─────────────────────┼───────────────────┼────────────┼───────────────────┤\n",
              "│ decoder_stage2b_re… │ (<span style=\"color: #00d7ff; text-decoration-color: #00d7ff\">None</span>, <span style=\"color: #00af00; text-decoration-color: #00af00\">16</span>, <span style=\"color: #00af00; text-decoration-color: #00af00\">16</span>,    │          <span style=\"color: #00af00; text-decoration-color: #00af00\">0</span> │ decoder_stage2b_… │\n",
              "│ (<span style=\"color: #0087ff; text-decoration-color: #0087ff\">Activation</span>)        │ <span style=\"color: #00af00; text-decoration-color: #00af00\">16</span>, <span style=\"color: #00af00; text-decoration-color: #00af00\">64</span>)           │            │                   │\n",
              "├─────────────────────┼───────────────────┼────────────┼───────────────────┤\n",
              "│ decoder_stage3_ups… │ (<span style=\"color: #00d7ff; text-decoration-color: #00d7ff\">None</span>, <span style=\"color: #00af00; text-decoration-color: #00af00\">32</span>, <span style=\"color: #00af00; text-decoration-color: #00af00\">32</span>,    │          <span style=\"color: #00af00; text-decoration-color: #00af00\">0</span> │ decoder_stage2b_… │\n",
              "│ (<span style=\"color: #0087ff; text-decoration-color: #0087ff\">UpSampling3D</span>)      │ <span style=\"color: #00af00; text-decoration-color: #00af00\">32</span>, <span style=\"color: #00af00; text-decoration-color: #00af00\">64</span>)           │            │                   │\n",
              "├─────────────────────┼───────────────────┼────────────┼───────────────────┤\n",
              "│ decoder_stage3_con… │ (<span style=\"color: #00d7ff; text-decoration-color: #00d7ff\">None</span>, <span style=\"color: #00af00; text-decoration-color: #00af00\">32</span>, <span style=\"color: #00af00; text-decoration-color: #00af00\">32</span>,    │          <span style=\"color: #00af00; text-decoration-color: #00af00\">0</span> │ decoder_stage3_u… │\n",
              "│ (<span style=\"color: #0087ff; text-decoration-color: #0087ff\">Concatenate</span>)       │ <span style=\"color: #00af00; text-decoration-color: #00af00\">32</span>, <span style=\"color: #00af00; text-decoration-color: #00af00\">192</span>)          │            │ block2_conv2[<span style=\"color: #00af00; text-decoration-color: #00af00\">0</span>][<span style=\"color: #00af00; text-decoration-color: #00af00\">…</span> │\n",
              "├─────────────────────┼───────────────────┼────────────┼───────────────────┤\n",
              "│ decoder_stage3a_co… │ (<span style=\"color: #00d7ff; text-decoration-color: #00d7ff\">None</span>, <span style=\"color: #00af00; text-decoration-color: #00af00\">32</span>, <span style=\"color: #00af00; text-decoration-color: #00af00\">32</span>,    │    <span style=\"color: #00af00; text-decoration-color: #00af00\">165,888</span> │ decoder_stage3_c… │\n",
              "│ (<span style=\"color: #0087ff; text-decoration-color: #0087ff\">Conv3D</span>)            │ <span style=\"color: #00af00; text-decoration-color: #00af00\">32</span>, <span style=\"color: #00af00; text-decoration-color: #00af00\">32</span>)           │            │                   │\n",
              "├─────────────────────┼───────────────────┼────────────┼───────────────────┤\n",
              "│ decoder_stage3a_bn  │ (<span style=\"color: #00d7ff; text-decoration-color: #00d7ff\">None</span>, <span style=\"color: #00af00; text-decoration-color: #00af00\">32</span>, <span style=\"color: #00af00; text-decoration-color: #00af00\">32</span>,    │        <span style=\"color: #00af00; text-decoration-color: #00af00\">128</span> │ decoder_stage3a_… │\n",
              "│ (<span style=\"color: #0087ff; text-decoration-color: #0087ff\">BatchNormalizatio…</span> │ <span style=\"color: #00af00; text-decoration-color: #00af00\">32</span>, <span style=\"color: #00af00; text-decoration-color: #00af00\">32</span>)           │            │                   │\n",
              "├─────────────────────┼───────────────────┼────────────┼───────────────────┤\n",
              "│ decoder_stage3a_re… │ (<span style=\"color: #00d7ff; text-decoration-color: #00d7ff\">None</span>, <span style=\"color: #00af00; text-decoration-color: #00af00\">32</span>, <span style=\"color: #00af00; text-decoration-color: #00af00\">32</span>,    │          <span style=\"color: #00af00; text-decoration-color: #00af00\">0</span> │ decoder_stage3a_… │\n",
              "│ (<span style=\"color: #0087ff; text-decoration-color: #0087ff\">Activation</span>)        │ <span style=\"color: #00af00; text-decoration-color: #00af00\">32</span>, <span style=\"color: #00af00; text-decoration-color: #00af00\">32</span>)           │            │                   │\n",
              "├─────────────────────┼───────────────────┼────────────┼───────────────────┤\n",
              "│ decoder_stage3b_co… │ (<span style=\"color: #00d7ff; text-decoration-color: #00d7ff\">None</span>, <span style=\"color: #00af00; text-decoration-color: #00af00\">32</span>, <span style=\"color: #00af00; text-decoration-color: #00af00\">32</span>,    │     <span style=\"color: #00af00; text-decoration-color: #00af00\">27,648</span> │ decoder_stage3a_… │\n",
              "│ (<span style=\"color: #0087ff; text-decoration-color: #0087ff\">Conv3D</span>)            │ <span style=\"color: #00af00; text-decoration-color: #00af00\">32</span>, <span style=\"color: #00af00; text-decoration-color: #00af00\">32</span>)           │            │                   │\n",
              "├─────────────────────┼───────────────────┼────────────┼───────────────────┤\n",
              "│ decoder_stage3b_bn  │ (<span style=\"color: #00d7ff; text-decoration-color: #00d7ff\">None</span>, <span style=\"color: #00af00; text-decoration-color: #00af00\">32</span>, <span style=\"color: #00af00; text-decoration-color: #00af00\">32</span>,    │        <span style=\"color: #00af00; text-decoration-color: #00af00\">128</span> │ decoder_stage3b_… │\n",
              "│ (<span style=\"color: #0087ff; text-decoration-color: #0087ff\">BatchNormalizatio…</span> │ <span style=\"color: #00af00; text-decoration-color: #00af00\">32</span>, <span style=\"color: #00af00; text-decoration-color: #00af00\">32</span>)           │            │                   │\n",
              "├─────────────────────┼───────────────────┼────────────┼───────────────────┤\n",
              "│ decoder_stage3b_re… │ (<span style=\"color: #00d7ff; text-decoration-color: #00d7ff\">None</span>, <span style=\"color: #00af00; text-decoration-color: #00af00\">32</span>, <span style=\"color: #00af00; text-decoration-color: #00af00\">32</span>,    │          <span style=\"color: #00af00; text-decoration-color: #00af00\">0</span> │ decoder_stage3b_… │\n",
              "│ (<span style=\"color: #0087ff; text-decoration-color: #0087ff\">Activation</span>)        │ <span style=\"color: #00af00; text-decoration-color: #00af00\">32</span>, <span style=\"color: #00af00; text-decoration-color: #00af00\">32</span>)           │            │                   │\n",
              "├─────────────────────┼───────────────────┼────────────┼───────────────────┤\n",
              "│ decoder_stage4_ups… │ (<span style=\"color: #00d7ff; text-decoration-color: #00d7ff\">None</span>, <span style=\"color: #00af00; text-decoration-color: #00af00\">64</span>, <span style=\"color: #00af00; text-decoration-color: #00af00\">64</span>,    │          <span style=\"color: #00af00; text-decoration-color: #00af00\">0</span> │ decoder_stage3b_… │\n",
              "│ (<span style=\"color: #0087ff; text-decoration-color: #0087ff\">UpSampling3D</span>)      │ <span style=\"color: #00af00; text-decoration-color: #00af00\">64</span>, <span style=\"color: #00af00; text-decoration-color: #00af00\">32</span>)           │            │                   │\n",
              "├─────────────────────┼───────────────────┼────────────┼───────────────────┤\n",
              "│ decoder_stage4a_co… │ (<span style=\"color: #00d7ff; text-decoration-color: #00d7ff\">None</span>, <span style=\"color: #00af00; text-decoration-color: #00af00\">64</span>, <span style=\"color: #00af00; text-decoration-color: #00af00\">64</span>,    │     <span style=\"color: #00af00; text-decoration-color: #00af00\">13,824</span> │ decoder_stage4_u… │\n",
              "│ (<span style=\"color: #0087ff; text-decoration-color: #0087ff\">Conv3D</span>)            │ <span style=\"color: #00af00; text-decoration-color: #00af00\">64</span>, <span style=\"color: #00af00; text-decoration-color: #00af00\">16</span>)           │            │                   │\n",
              "├─────────────────────┼───────────────────┼────────────┼───────────────────┤\n",
              "│ decoder_stage4a_bn  │ (<span style=\"color: #00d7ff; text-decoration-color: #00d7ff\">None</span>, <span style=\"color: #00af00; text-decoration-color: #00af00\">64</span>, <span style=\"color: #00af00; text-decoration-color: #00af00\">64</span>,    │         <span style=\"color: #00af00; text-decoration-color: #00af00\">64</span> │ decoder_stage4a_… │\n",
              "│ (<span style=\"color: #0087ff; text-decoration-color: #0087ff\">BatchNormalizatio…</span> │ <span style=\"color: #00af00; text-decoration-color: #00af00\">64</span>, <span style=\"color: #00af00; text-decoration-color: #00af00\">16</span>)           │            │                   │\n",
              "├─────────────────────┼───────────────────┼────────────┼───────────────────┤\n",
              "│ decoder_stage4a_re… │ (<span style=\"color: #00d7ff; text-decoration-color: #00d7ff\">None</span>, <span style=\"color: #00af00; text-decoration-color: #00af00\">64</span>, <span style=\"color: #00af00; text-decoration-color: #00af00\">64</span>,    │          <span style=\"color: #00af00; text-decoration-color: #00af00\">0</span> │ decoder_stage4a_… │\n",
              "│ (<span style=\"color: #0087ff; text-decoration-color: #0087ff\">Activation</span>)        │ <span style=\"color: #00af00; text-decoration-color: #00af00\">64</span>, <span style=\"color: #00af00; text-decoration-color: #00af00\">16</span>)           │            │                   │\n",
              "├─────────────────────┼───────────────────┼────────────┼───────────────────┤\n",
              "│ decoder_stage4b_co… │ (<span style=\"color: #00d7ff; text-decoration-color: #00d7ff\">None</span>, <span style=\"color: #00af00; text-decoration-color: #00af00\">64</span>, <span style=\"color: #00af00; text-decoration-color: #00af00\">64</span>,    │      <span style=\"color: #00af00; text-decoration-color: #00af00\">6,912</span> │ decoder_stage4a_… │\n",
              "│ (<span style=\"color: #0087ff; text-decoration-color: #0087ff\">Conv3D</span>)            │ <span style=\"color: #00af00; text-decoration-color: #00af00\">64</span>, <span style=\"color: #00af00; text-decoration-color: #00af00\">16</span>)           │            │                   │\n",
              "├─────────────────────┼───────────────────┼────────────┼───────────────────┤\n",
              "│ decoder_stage4b_bn  │ (<span style=\"color: #00d7ff; text-decoration-color: #00d7ff\">None</span>, <span style=\"color: #00af00; text-decoration-color: #00af00\">64</span>, <span style=\"color: #00af00; text-decoration-color: #00af00\">64</span>,    │         <span style=\"color: #00af00; text-decoration-color: #00af00\">64</span> │ decoder_stage4b_… │\n",
              "│ (<span style=\"color: #0087ff; text-decoration-color: #0087ff\">BatchNormalizatio…</span> │ <span style=\"color: #00af00; text-decoration-color: #00af00\">64</span>, <span style=\"color: #00af00; text-decoration-color: #00af00\">16</span>)           │            │                   │\n",
              "├─────────────────────┼───────────────────┼────────────┼───────────────────┤\n",
              "│ decoder_stage4b_re… │ (<span style=\"color: #00d7ff; text-decoration-color: #00d7ff\">None</span>, <span style=\"color: #00af00; text-decoration-color: #00af00\">64</span>, <span style=\"color: #00af00; text-decoration-color: #00af00\">64</span>,    │          <span style=\"color: #00af00; text-decoration-color: #00af00\">0</span> │ decoder_stage4b_… │\n",
              "│ (<span style=\"color: #0087ff; text-decoration-color: #0087ff\">Activation</span>)        │ <span style=\"color: #00af00; text-decoration-color: #00af00\">64</span>, <span style=\"color: #00af00; text-decoration-color: #00af00\">16</span>)           │            │                   │\n",
              "├─────────────────────┼───────────────────┼────────────┼───────────────────┤\n",
              "│ final_conv (<span style=\"color: #0087ff; text-decoration-color: #0087ff\">Conv3D</span>) │ (<span style=\"color: #00d7ff; text-decoration-color: #00d7ff\">None</span>, <span style=\"color: #00af00; text-decoration-color: #00af00\">64</span>, <span style=\"color: #00af00; text-decoration-color: #00af00\">64</span>,    │        <span style=\"color: #00af00; text-decoration-color: #00af00\">866</span> │ decoder_stage4b_… │\n",
              "│                     │ <span style=\"color: #00af00; text-decoration-color: #00af00\">64</span>, <span style=\"color: #00af00; text-decoration-color: #00af00\">2</span>)            │            │                   │\n",
              "├─────────────────────┼───────────────────┼────────────┼───────────────────┤\n",
              "│ softmax             │ (<span style=\"color: #00d7ff; text-decoration-color: #00d7ff\">None</span>, <span style=\"color: #00af00; text-decoration-color: #00af00\">64</span>, <span style=\"color: #00af00; text-decoration-color: #00af00\">64</span>,    │          <span style=\"color: #00af00; text-decoration-color: #00af00\">0</span> │ final_conv[<span style=\"color: #00af00; text-decoration-color: #00af00\">0</span>][<span style=\"color: #00af00; text-decoration-color: #00af00\">0</span>]  │\n",
              "│ (<span style=\"color: #0087ff; text-decoration-color: #0087ff\">Activation</span>)        │ <span style=\"color: #00af00; text-decoration-color: #00af00\">64</span>, <span style=\"color: #00af00; text-decoration-color: #00af00\">2</span>)            │            │                   │\n",
              "└─────────────────────┴───────────────────┴────────────┴───────────────────┘\n",
              "</pre>\n"
            ]
          },
          "metadata": {}
        },
        {
          "output_type": "display_data",
          "data": {
            "text/plain": [
              "\u001b[1m Total params: \u001b[0m\u001b[38;5;34m71,232,674\u001b[0m (271.73 MB)\n"
            ],
            "text/html": [
              "<pre style=\"white-space:pre;overflow-x:auto;line-height:normal;font-family:Menlo,'DejaVu Sans Mono',consolas,'Courier New',monospace\"><span style=\"font-weight: bold\"> Total params: </span><span style=\"color: #00af00; text-decoration-color: #00af00\">71,232,674</span> (271.73 MB)\n",
              "</pre>\n"
            ]
          },
          "metadata": {}
        },
        {
          "output_type": "display_data",
          "data": {
            "text/plain": [
              "\u001b[1m Trainable params: \u001b[0m\u001b[38;5;34m71,228,642\u001b[0m (271.72 MB)\n"
            ],
            "text/html": [
              "<pre style=\"white-space:pre;overflow-x:auto;line-height:normal;font-family:Menlo,'DejaVu Sans Mono',consolas,'Courier New',monospace\"><span style=\"font-weight: bold\"> Trainable params: </span><span style=\"color: #00af00; text-decoration-color: #00af00\">71,228,642</span> (271.72 MB)\n",
              "</pre>\n"
            ]
          },
          "metadata": {}
        },
        {
          "output_type": "display_data",
          "data": {
            "text/plain": [
              "\u001b[1m Non-trainable params: \u001b[0m\u001b[38;5;34m4,032\u001b[0m (15.75 KB)\n"
            ],
            "text/html": [
              "<pre style=\"white-space:pre;overflow-x:auto;line-height:normal;font-family:Menlo,'DejaVu Sans Mono',consolas,'Courier New',monospace\"><span style=\"font-weight: bold\"> Non-trainable params: </span><span style=\"color: #00af00; text-decoration-color: #00af00\">4,032</span> (15.75 KB)\n",
              "</pre>\n"
            ]
          },
          "metadata": {}
        },
        {
          "output_type": "stream",
          "name": "stdout",
          "text": [
            "None\n"
          ]
        }
      ],
      "source": [
        "#Define the model. Here we use Unet but we can also use other model architectures from the library.\n",
        "model = sm.Unet(BACKBONE, classes=n_classes,\n",
        "                input_shape=(patch_size, patch_size, patch_size, channels),\n",
        "                encoder_weights=encoder_weights,\n",
        "                activation=activation)\n",
        "\n",
        "model.compile(optimizer = optim, loss=total_loss, metrics=metrics)\n",
        "print(model.summary())"
      ]
    },
    {
      "cell_type": "code",
      "execution_count": null,
      "metadata": {
        "colab": {
          "base_uri": "https://localhost:8080/"
        },
        "id": "f69gK8DoAQ1C",
        "outputId": "4afd8e39-28c8-4838-bda5-0ea7d6f7a629"
      },
      "outputs": [
        {
          "output_type": "stream",
          "name": "stdout",
          "text": [
            "Epoch 1/100\n",
            "\u001b[1m232/232\u001b[0m \u001b[32m━━━━━━━━━━━━━━━━━━━━\u001b[0m\u001b[37m\u001b[0m \u001b[1m93s\u001b[0m 238ms/step - f1-score: 0.4993 - iou_score: 0.4904 - loss: 0.5502 - val_f1-score: 0.5351 - val_iou_score: 0.5337 - val_loss: 0.5110\n",
            "Epoch 2/100\n",
            "\u001b[1m232/232\u001b[0m \u001b[32m━━━━━━━━━━━━━━━━━━━━\u001b[0m\u001b[37m\u001b[0m \u001b[1m28s\u001b[0m 119ms/step - f1-score: 0.5363 - iou_score: 0.5338 - loss: 0.5129 - val_f1-score: 0.5351 - val_iou_score: 0.5337 - val_loss: 0.5102\n",
            "Epoch 3/100\n",
            "\u001b[1m232/232\u001b[0m \u001b[32m━━━━━━━━━━━━━━━━━━━━\u001b[0m\u001b[37m\u001b[0m \u001b[1m28s\u001b[0m 119ms/step - f1-score: 0.5477 - iou_score: 0.5457 - loss: 0.5099 - val_f1-score: 0.5351 - val_iou_score: 0.5337 - val_loss: 0.5148\n",
            "Epoch 4/100\n",
            "\u001b[1m232/232\u001b[0m \u001b[32m━━━━━━━━━━━━━━━━━━━━\u001b[0m\u001b[37m\u001b[0m \u001b[1m28s\u001b[0m 119ms/step - f1-score: 0.5231 - iou_score: 0.5204 - loss: 0.5102 - val_f1-score: 0.5121 - val_iou_score: 0.5100 - val_loss: 0.5090\n",
            "Epoch 5/100\n",
            "\u001b[1m232/232\u001b[0m \u001b[32m━━━━━━━━━━━━━━━━━━━━\u001b[0m\u001b[37m\u001b[0m \u001b[1m28s\u001b[0m 119ms/step - f1-score: 0.5446 - iou_score: 0.5406 - loss: 0.5118 - val_f1-score: 0.5131 - val_iou_score: 0.5105 - val_loss: 0.5136\n",
            "Epoch 6/100\n",
            "\u001b[1m232/232\u001b[0m \u001b[32m━━━━━━━━━━━━━━━━━━━━\u001b[0m\u001b[37m\u001b[0m \u001b[1m28s\u001b[0m 119ms/step - f1-score: 0.5370 - iou_score: 0.5340 - loss: 0.5099 - val_f1-score: 0.5130 - val_iou_score: 0.5105 - val_loss: 0.5092\n",
            "Epoch 7/100\n",
            "\u001b[1m232/232\u001b[0m \u001b[32m━━━━━━━━━━━━━━━━━━━━\u001b[0m\u001b[37m\u001b[0m \u001b[1m28s\u001b[0m 119ms/step - f1-score: 0.5296 - iou_score: 0.5265 - loss: 0.5100 - val_f1-score: 0.5113 - val_iou_score: 0.5036 - val_loss: 0.6170\n",
            "Epoch 8/100\n",
            "\u001b[1m232/232\u001b[0m \u001b[32m━━━━━━━━━━━━━━━━━━━━\u001b[0m\u001b[37m\u001b[0m \u001b[1m28s\u001b[0m 119ms/step - f1-score: 0.5217 - iou_score: 0.5188 - loss: 0.5099 - val_f1-score: 0.5123 - val_iou_score: 0.5101 - val_loss: 0.5137\n",
            "Epoch 9/100\n",
            "\u001b[1m232/232\u001b[0m \u001b[32m━━━━━━━━━━━━━━━━━━━━\u001b[0m\u001b[37m\u001b[0m \u001b[1m28s\u001b[0m 119ms/step - f1-score: 0.5260 - iou_score: 0.5236 - loss: 0.5101 - val_f1-score: 0.5351 - val_iou_score: 0.5337 - val_loss: 0.5148\n",
            "Epoch 10/100\n",
            "\u001b[1m232/232\u001b[0m \u001b[32m━━━━━━━━━━━━━━━━━━━━\u001b[0m\u001b[37m\u001b[0m \u001b[1m28s\u001b[0m 120ms/step - f1-score: 0.5175 - iou_score: 0.5149 - loss: 0.5106 - val_f1-score: 0.5115 - val_iou_score: 0.5097 - val_loss: 0.5088\n",
            "Epoch 11/100\n",
            "\u001b[1m232/232\u001b[0m \u001b[32m━━━━━━━━━━━━━━━━━━━━\u001b[0m\u001b[37m\u001b[0m \u001b[1m28s\u001b[0m 119ms/step - f1-score: 0.5283 - iou_score: 0.5257 - loss: 0.5106 - val_f1-score: 0.5234 - val_iou_score: 0.5217 - val_loss: 0.5104\n",
            "Epoch 12/100\n",
            "\u001b[1m232/232\u001b[0m \u001b[32m━━━━━━━━━━━━━━━━━━━━\u001b[0m\u001b[37m\u001b[0m \u001b[1m27s\u001b[0m 118ms/step - f1-score: 0.5153 - iou_score: 0.5127 - loss: 0.5098 - val_f1-score: 0.5351 - val_iou_score: 0.5337 - val_loss: 0.5166\n",
            "Epoch 13/100\n",
            "\u001b[1m232/232\u001b[0m \u001b[32m━━━━━━━━━━━━━━━━━━━━\u001b[0m\u001b[37m\u001b[0m \u001b[1m28s\u001b[0m 119ms/step - f1-score: 0.5355 - iou_score: 0.5332 - loss: 0.5096 - val_f1-score: 0.5112 - val_iou_score: 0.5095 - val_loss: 0.5079\n",
            "Epoch 14/100\n",
            "\u001b[1m232/232\u001b[0m \u001b[32m━━━━━━━━━━━━━━━━━━━━\u001b[0m\u001b[37m\u001b[0m \u001b[1m28s\u001b[0m 119ms/step - f1-score: 0.5293 - iou_score: 0.5272 - loss: 0.5092 - val_f1-score: 0.5131 - val_iou_score: 0.5105 - val_loss: 0.5083\n",
            "Epoch 15/100\n",
            "\u001b[1m232/232\u001b[0m \u001b[32m━━━━━━━━━━━━━━━━━━━━\u001b[0m\u001b[37m\u001b[0m \u001b[1m27s\u001b[0m 118ms/step - f1-score: 0.5279 - iou_score: 0.5255 - loss: 0.5089 - val_f1-score: 0.5135 - val_iou_score: 0.5107 - val_loss: 0.5084\n",
            "Epoch 16/100\n",
            "\u001b[1m232/232\u001b[0m \u001b[32m━━━━━━━━━━━━━━━━━━━━\u001b[0m\u001b[37m\u001b[0m \u001b[1m28s\u001b[0m 119ms/step - f1-score: 0.5677 - iou_score: 0.5654 - loss: 0.5090 - val_f1-score: 0.5112 - val_iou_score: 0.5095 - val_loss: 0.5082\n",
            "Epoch 17/100\n",
            "\u001b[1m232/232\u001b[0m \u001b[32m━━━━━━━━━━━━━━━━━━━━\u001b[0m\u001b[37m\u001b[0m \u001b[1m27s\u001b[0m 118ms/step - f1-score: 0.5229 - iou_score: 0.5202 - loss: 0.5098 - val_f1-score: 0.5118 - val_iou_score: 0.5098 - val_loss: 0.5079\n",
            "Epoch 18/100\n",
            "\u001b[1m232/232\u001b[0m \u001b[32m━━━━━━━━━━━━━━━━━━━━\u001b[0m\u001b[37m\u001b[0m \u001b[1m27s\u001b[0m 118ms/step - f1-score: 0.5330 - iou_score: 0.5306 - loss: 0.5087 - val_f1-score: 0.5116 - val_iou_score: 0.5097 - val_loss: 0.5202\n",
            "Epoch 19/100\n",
            "\u001b[1m232/232\u001b[0m \u001b[32m━━━━━━━━━━━━━━━━━━━━\u001b[0m\u001b[37m\u001b[0m \u001b[1m28s\u001b[0m 119ms/step - f1-score: 0.5552 - iou_score: 0.5526 - loss: 0.5099 - val_f1-score: 0.5354 - val_iou_score: 0.5338 - val_loss: 0.5103\n",
            "Epoch 20/100\n",
            "\u001b[1m232/232\u001b[0m \u001b[32m━━━━━━━━━━━━━━━━━━━━\u001b[0m\u001b[37m\u001b[0m \u001b[1m28s\u001b[0m 119ms/step - f1-score: 0.5176 - iou_score: 0.5151 - loss: 0.5087 - val_f1-score: 0.5354 - val_iou_score: 0.5338 - val_loss: 0.5136\n",
            "Epoch 21/100\n",
            "\u001b[1m232/232\u001b[0m \u001b[32m━━━━━━━━━━━━━━━━━━━━\u001b[0m\u001b[37m\u001b[0m \u001b[1m28s\u001b[0m 120ms/step - f1-score: 0.5339 - iou_score: 0.5315 - loss: 0.5090 - val_f1-score: 0.5123 - val_iou_score: 0.5101 - val_loss: 0.5088\n",
            "Epoch 22/100\n",
            "\u001b[1m232/232\u001b[0m \u001b[32m━━━━━━━━━━━━━━━━━━━━\u001b[0m\u001b[37m\u001b[0m \u001b[1m28s\u001b[0m 120ms/step - f1-score: 0.5158 - iou_score: 0.5131 - loss: 0.5098 - val_f1-score: 0.5351 - val_iou_score: 0.5337 - val_loss: 0.5160\n",
            "Epoch 23/100\n",
            "\u001b[1m232/232\u001b[0m \u001b[32m━━━━━━━━━━━━━━━━━━━━\u001b[0m\u001b[37m\u001b[0m \u001b[1m28s\u001b[0m 119ms/step - f1-score: 0.5355 - iou_score: 0.5329 - loss: 0.5094 - val_f1-score: 0.5115 - val_iou_score: 0.5097 - val_loss: 0.5098\n",
            "Epoch 24/100\n",
            "\u001b[1m232/232\u001b[0m \u001b[32m━━━━━━━━━━━━━━━━━━━━\u001b[0m\u001b[37m\u001b[0m \u001b[1m28s\u001b[0m 120ms/step - f1-score: 0.5265 - iou_score: 0.5237 - loss: 0.5096 - val_f1-score: 0.5025 - val_iou_score: 0.4991 - val_loss: 0.5214\n",
            "Epoch 25/100\n",
            "\u001b[1m232/232\u001b[0m \u001b[32m━━━━━━━━━━━━━━━━━━━━\u001b[0m\u001b[37m\u001b[0m \u001b[1m28s\u001b[0m 119ms/step - f1-score: 0.5467 - iou_score: 0.5444 - loss: 0.5090 - val_f1-score: 0.5242 - val_iou_score: 0.5221 - val_loss: 0.5109\n",
            "Epoch 26/100\n",
            "\u001b[1m232/232\u001b[0m \u001b[32m━━━━━━━━━━━━━━━━━━━━\u001b[0m\u001b[37m\u001b[0m \u001b[1m28s\u001b[0m 119ms/step - f1-score: 0.5363 - iou_score: 0.5334 - loss: 0.5093 - val_f1-score: 0.5232 - val_iou_score: 0.5216 - val_loss: 0.5112\n",
            "Epoch 27/100\n",
            "\u001b[1m232/232\u001b[0m \u001b[32m━━━━━━━━━━━━━━━━━━━━\u001b[0m\u001b[37m\u001b[0m \u001b[1m28s\u001b[0m 119ms/step - f1-score: 0.5353 - iou_score: 0.5327 - loss: 0.5102 - val_f1-score: 0.5357 - val_iou_score: 0.5340 - val_loss: 0.5123\n",
            "Epoch 28/100\n",
            "\u001b[1m232/232\u001b[0m \u001b[32m━━━━━━━━━━━━━━━━━━━━\u001b[0m\u001b[37m\u001b[0m \u001b[1m28s\u001b[0m 119ms/step - f1-score: 0.5370 - iou_score: 0.5345 - loss: 0.5085 - val_f1-score: 0.5356 - val_iou_score: 0.5339 - val_loss: 0.5135\n",
            "Epoch 29/100\n",
            "\u001b[1m232/232\u001b[0m \u001b[32m━━━━━━━━━━━━━━━━━━━━\u001b[0m\u001b[37m\u001b[0m \u001b[1m28s\u001b[0m 119ms/step - f1-score: 0.5142 - iou_score: 0.5110 - loss: 0.5095 - val_f1-score: 0.5117 - val_iou_score: 0.5098 - val_loss: 0.5156\n",
            "Epoch 30/100\n",
            "\u001b[1m232/232\u001b[0m \u001b[32m━━━━━━━━━━━━━━━━━━━━\u001b[0m\u001b[37m\u001b[0m \u001b[1m28s\u001b[0m 119ms/step - f1-score: 0.5118 - iou_score: 0.5090 - loss: 0.5095 - val_f1-score: 0.5233 - val_iou_score: 0.5216 - val_loss: 0.5080\n",
            "Epoch 31/100\n",
            "\u001b[1m232/232\u001b[0m \u001b[32m━━━━━━━━━━━━━━━━━━━━\u001b[0m\u001b[37m\u001b[0m \u001b[1m28s\u001b[0m 118ms/step - f1-score: 0.5200 - iou_score: 0.5171 - loss: 0.5090 - val_f1-score: 0.5121 - val_iou_score: 0.5100 - val_loss: 0.5076\n",
            "Epoch 32/100\n",
            "\u001b[1m232/232\u001b[0m \u001b[32m━━━━━━━━━━━━━━━━━━━━\u001b[0m\u001b[37m\u001b[0m \u001b[1m28s\u001b[0m 119ms/step - f1-score: 0.5362 - iou_score: 0.5333 - loss: 0.5093 - val_f1-score: 0.5118 - val_iou_score: 0.5098 - val_loss: 0.5077\n",
            "Epoch 33/100\n",
            "\u001b[1m232/232\u001b[0m \u001b[32m━━━━━━━━━━━━━━━━━━━━\u001b[0m\u001b[37m\u001b[0m \u001b[1m28s\u001b[0m 119ms/step - f1-score: 0.5408 - iou_score: 0.5374 - loss: 0.5086 - val_f1-score: 0.5119 - val_iou_score: 0.5099 - val_loss: 0.5094\n",
            "Epoch 34/100\n",
            "\u001b[1m232/232\u001b[0m \u001b[32m━━━━━━━━━━━━━━━━━━━━\u001b[0m\u001b[37m\u001b[0m \u001b[1m28s\u001b[0m 119ms/step - f1-score: 0.5209 - iou_score: 0.5171 - loss: 0.5090 - val_f1-score: 0.5113 - val_iou_score: 0.5096 - val_loss: 0.5087\n",
            "Epoch 35/100\n",
            "\u001b[1m232/232\u001b[0m \u001b[32m━━━━━━━━━━━━━━━━━━━━\u001b[0m\u001b[37m\u001b[0m \u001b[1m28s\u001b[0m 119ms/step - f1-score: 0.5268 - iou_score: 0.5241 - loss: 0.5085 - val_f1-score: 0.5125 - val_iou_score: 0.5102 - val_loss: 0.5085\n",
            "Epoch 36/100\n",
            "\u001b[1m232/232\u001b[0m \u001b[32m━━━━━━━━━━━━━━━━━━━━\u001b[0m\u001b[37m\u001b[0m \u001b[1m28s\u001b[0m 119ms/step - f1-score: 0.5327 - iou_score: 0.5288 - loss: 0.5088 - val_f1-score: 0.5024 - val_iou_score: 0.4990 - val_loss: 0.6089\n",
            "Epoch 37/100\n",
            "\u001b[1m232/232\u001b[0m \u001b[32m━━━━━━━━━━━━━━━━━━━━\u001b[0m\u001b[37m\u001b[0m \u001b[1m28s\u001b[0m 119ms/step - f1-score: 0.5418 - iou_score: 0.5386 - loss: 0.5086 - val_f1-score: 0.5113 - val_iou_score: 0.5096 - val_loss: 0.5100\n",
            "Epoch 38/100\n",
            "\u001b[1m232/232\u001b[0m \u001b[32m━━━━━━━━━━━━━━━━━━━━\u001b[0m\u001b[37m\u001b[0m \u001b[1m28s\u001b[0m 119ms/step - f1-score: 0.5330 - iou_score: 0.5305 - loss: 0.5078 - val_f1-score: 0.5231 - val_iou_score: 0.5216 - val_loss: 0.5132\n",
            "Epoch 39/100\n",
            "\u001b[1m232/232\u001b[0m \u001b[32m━━━━━━━━━━━━━━━━━━━━\u001b[0m\u001b[37m\u001b[0m \u001b[1m28s\u001b[0m 119ms/step - f1-score: 0.5296 - iou_score: 0.5264 - loss: 0.5095 - val_f1-score: 0.5127 - val_iou_score: 0.5103 - val_loss: 0.5078\n",
            "Epoch 40/100\n",
            "\u001b[1m232/232\u001b[0m \u001b[32m━━━━━━━━━━━━━━━━━━━━\u001b[0m\u001b[37m\u001b[0m \u001b[1m28s\u001b[0m 119ms/step - f1-score: 0.5204 - iou_score: 0.5169 - loss: 0.5084 - val_f1-score: 0.5039 - val_iou_score: 0.4992 - val_loss: 0.5594\n",
            "Epoch 41/100\n",
            "\u001b[1m232/232\u001b[0m \u001b[32m━━━━━━━━━━━━━━━━━━━━\u001b[0m\u001b[37m\u001b[0m \u001b[1m28s\u001b[0m 118ms/step - f1-score: 0.5351 - iou_score: 0.5307 - loss: 0.5089 - val_f1-score: 0.5130 - val_iou_score: 0.5104 - val_loss: 0.5123\n",
            "Epoch 42/100\n",
            "\u001b[1m232/232\u001b[0m \u001b[32m━━━━━━━━━━━━━━━━━━━━\u001b[0m\u001b[37m\u001b[0m \u001b[1m27s\u001b[0m 118ms/step - f1-score: 0.5233 - iou_score: 0.5197 - loss: 0.5082 - val_f1-score: 0.5037 - val_iou_score: 0.4984 - val_loss: 0.6600\n",
            "Epoch 43/100\n",
            "\u001b[1m232/232\u001b[0m \u001b[32m━━━━━━━━━━━━━━━━━━━━\u001b[0m\u001b[37m\u001b[0m \u001b[1m28s\u001b[0m 119ms/step - f1-score: 0.5213 - iou_score: 0.5164 - loss: 0.5097 - val_f1-score: 0.5142 - val_iou_score: 0.5110 - val_loss: 0.5081\n",
            "Epoch 44/100\n",
            "\u001b[1m232/232\u001b[0m \u001b[32m━━━━━━━━━━━━━━━━━━━━\u001b[0m\u001b[37m\u001b[0m \u001b[1m28s\u001b[0m 119ms/step - f1-score: 0.5346 - iou_score: 0.5306 - loss: 0.5081 - val_f1-score: 0.5252 - val_iou_score: 0.5226 - val_loss: 0.5101\n",
            "Epoch 45/100\n",
            "\u001b[1m232/232\u001b[0m \u001b[32m━━━━━━━━━━━━━━━━━━━━\u001b[0m\u001b[37m\u001b[0m \u001b[1m28s\u001b[0m 119ms/step - f1-score: 0.5314 - iou_score: 0.5267 - loss: 0.5083 - val_f1-score: 0.5246 - val_iou_score: 0.5223 - val_loss: 0.5103\n",
            "Epoch 46/100\n",
            "\u001b[1m232/232\u001b[0m \u001b[32m━━━━━━━━━━━━━━━━━━━━\u001b[0m\u001b[37m\u001b[0m \u001b[1m28s\u001b[0m 119ms/step - f1-score: 0.5278 - iou_score: 0.5218 - loss: 0.5089 - val_f1-score: 0.5254 - val_iou_score: 0.5169 - val_loss: 0.5078\n",
            "Epoch 47/100\n",
            "\u001b[1m232/232\u001b[0m \u001b[32m━━━━━━━━━━━━━━━━━━━━\u001b[0m\u001b[37m\u001b[0m \u001b[1m28s\u001b[0m 119ms/step - f1-score: 0.5181 - iou_score: 0.5100 - loss: 0.5084 - val_f1-score: 0.5387 - val_iou_score: 0.5227 - val_loss: 0.5093\n",
            "Epoch 48/100\n",
            "\u001b[1m232/232\u001b[0m \u001b[32m━━━━━━━━━━━━━━━━━━━━\u001b[0m\u001b[37m\u001b[0m \u001b[1m28s\u001b[0m 119ms/step - f1-score: 0.5706 - iou_score: 0.5454 - loss: 0.5083 - val_f1-score: 0.5566 - val_iou_score: 0.5322 - val_loss: 0.5089\n",
            "Epoch 49/100\n",
            "\u001b[1m232/232\u001b[0m \u001b[32m━━━━━━━━━━━━━━━━━━━━\u001b[0m\u001b[37m\u001b[0m \u001b[1m28s\u001b[0m 119ms/step - f1-score: 0.5570 - iou_score: 0.5371 - loss: 0.5085 - val_f1-score: 0.5349 - val_iou_score: 0.5243 - val_loss: 0.5107\n",
            "Epoch 50/100\n",
            "\u001b[1m232/232\u001b[0m \u001b[32m━━━━━━━━━━━━━━━━━━━━\u001b[0m\u001b[37m\u001b[0m \u001b[1m28s\u001b[0m 119ms/step - f1-score: 0.5968 - iou_score: 0.5677 - loss: 0.5081 - val_f1-score: 0.5518 - val_iou_score: 0.5394 - val_loss: 0.5101\n",
            "Epoch 51/100\n",
            "\u001b[1m232/232\u001b[0m \u001b[32m━━━━━━━━━━━━━━━━━━━━\u001b[0m\u001b[37m\u001b[0m \u001b[1m28s\u001b[0m 119ms/step - f1-score: 0.6095 - iou_score: 0.5854 - loss: 0.5075 - val_f1-score: 0.5554 - val_iou_score: 0.5377 - val_loss: 0.5079\n",
            "Epoch 52/100\n",
            "\u001b[1m232/232\u001b[0m \u001b[32m━━━━━━━━━━━━━━━━━━━━\u001b[0m\u001b[37m\u001b[0m \u001b[1m27s\u001b[0m 118ms/step - f1-score: 0.5753 - iou_score: 0.5464 - loss: 0.5091 - val_f1-score: 0.5831 - val_iou_score: 0.5485 - val_loss: 0.5174\n",
            "Epoch 53/100\n",
            "\u001b[1m232/232\u001b[0m \u001b[32m━━━━━━━━━━━━━━━━━━━━\u001b[0m\u001b[37m\u001b[0m \u001b[1m28s\u001b[0m 118ms/step - f1-score: 0.5886 - iou_score: 0.5546 - loss: 0.5089 - val_f1-score: 0.5583 - val_iou_score: 0.5385 - val_loss: 0.5076\n",
            "Epoch 54/100\n",
            "\u001b[1m232/232\u001b[0m \u001b[32m━━━━━━━━━━━━━━━━━━━━\u001b[0m\u001b[37m\u001b[0m \u001b[1m28s\u001b[0m 119ms/step - f1-score: 0.5757 - iou_score: 0.5447 - loss: 0.5097 - val_f1-score: 0.5621 - val_iou_score: 0.5407 - val_loss: 0.5082\n",
            "Epoch 55/100\n",
            "\u001b[1m232/232\u001b[0m \u001b[32m━━━━━━━━━━━━━━━━━━━━\u001b[0m\u001b[37m\u001b[0m \u001b[1m28s\u001b[0m 119ms/step - f1-score: 0.5978 - iou_score: 0.5661 - loss: 0.5091 - val_f1-score: 0.5465 - val_iou_score: 0.5258 - val_loss: 0.5098\n",
            "Epoch 56/100\n",
            "\u001b[1m232/232\u001b[0m \u001b[32m━━━━━━━━━━━━━━━━━━━━\u001b[0m\u001b[37m\u001b[0m \u001b[1m28s\u001b[0m 119ms/step - f1-score: 0.5702 - iou_score: 0.5452 - loss: 0.5089 - val_f1-score: 0.5337 - val_iou_score: 0.5217 - val_loss: 0.5084\n",
            "Epoch 57/100\n",
            "\u001b[1m232/232\u001b[0m \u001b[32m━━━━━━━━━━━━━━━━━━━━\u001b[0m\u001b[37m\u001b[0m \u001b[1m28s\u001b[0m 119ms/step - f1-score: 0.5782 - iou_score: 0.5490 - loss: 0.5084 - val_f1-score: 0.5342 - val_iou_score: 0.5224 - val_loss: 0.5129\n",
            "Epoch 58/100\n",
            "\u001b[1m232/232\u001b[0m \u001b[32m━━━━━━━━━━━━━━━━━━━━\u001b[0m\u001b[37m\u001b[0m \u001b[1m28s\u001b[0m 119ms/step - f1-score: 0.5855 - iou_score: 0.5529 - loss: 0.5086 - val_f1-score: 0.5566 - val_iou_score: 0.5383 - val_loss: 0.5090\n",
            "Epoch 59/100\n",
            "\u001b[1m232/232\u001b[0m \u001b[32m━━━━━━━━━━━━━━━━━━━━\u001b[0m\u001b[37m\u001b[0m \u001b[1m28s\u001b[0m 119ms/step - f1-score: 0.5963 - iou_score: 0.5653 - loss: 0.5087 - val_f1-score: 0.5713 - val_iou_score: 0.5425 - val_loss: 0.5081\n",
            "Epoch 60/100\n",
            "\u001b[1m232/232\u001b[0m \u001b[32m━━━━━━━━━━━━━━━━━━━━\u001b[0m\u001b[37m\u001b[0m \u001b[1m28s\u001b[0m 119ms/step - f1-score: 0.5829 - iou_score: 0.5525 - loss: 0.5086 - val_f1-score: 0.5672 - val_iou_score: 0.5443 - val_loss: 0.5074\n",
            "Epoch 61/100\n",
            "\u001b[1m232/232\u001b[0m \u001b[32m━━━━━━━━━━━━━━━━━━━━\u001b[0m\u001b[37m\u001b[0m \u001b[1m27s\u001b[0m 118ms/step - f1-score: 0.5873 - iou_score: 0.5556 - loss: 0.5084 - val_f1-score: 0.5882 - val_iou_score: 0.5475 - val_loss: 0.5239\n",
            "Epoch 62/100\n",
            "\u001b[1m232/232\u001b[0m \u001b[32m━━━━━━━━━━━━━━━━━━━━\u001b[0m\u001b[37m\u001b[0m \u001b[1m28s\u001b[0m 119ms/step - f1-score: 0.5972 - iou_score: 0.5666 - loss: 0.5083 - val_f1-score: 0.5443 - val_iou_score: 0.5293 - val_loss: 0.5086\n",
            "Epoch 63/100\n",
            "\u001b[1m232/232\u001b[0m \u001b[32m━━━━━━━━━━━━━━━━━━━━\u001b[0m\u001b[37m\u001b[0m \u001b[1m27s\u001b[0m 118ms/step - f1-score: 0.6137 - iou_score: 0.5791 - loss: 0.5078 - val_f1-score: 0.5469 - val_iou_score: 0.5126 - val_loss: 0.5318\n",
            "Epoch 64/100\n",
            "\u001b[1m232/232\u001b[0m \u001b[32m━━━━━━━━━━━━━━━━━━━━\u001b[0m\u001b[37m\u001b[0m \u001b[1m27s\u001b[0m 118ms/step - f1-score: 0.5993 - iou_score: 0.5652 - loss: 0.5087 - val_f1-score: 0.5875 - val_iou_score: 0.5473 - val_loss: 0.5221\n",
            "Epoch 65/100\n",
            "\u001b[1m232/232\u001b[0m \u001b[32m━━━━━━━━━━━━━━━━━━━━\u001b[0m\u001b[37m\u001b[0m \u001b[1m28s\u001b[0m 119ms/step - f1-score: 0.6037 - iou_score: 0.5717 - loss: 0.5079 - val_f1-score: 0.5157 - val_iou_score: 0.5119 - val_loss: 0.5152\n",
            "Epoch 66/100\n",
            "\u001b[1m232/232\u001b[0m \u001b[32m━━━━━━━━━━━━━━━━━━━━\u001b[0m\u001b[37m\u001b[0m \u001b[1m28s\u001b[0m 118ms/step - f1-score: 0.6278 - iou_score: 0.5872 - loss: 0.5081 - val_f1-score: 0.5594 - val_iou_score: 0.5417 - val_loss: 0.5092\n",
            "Epoch 67/100\n",
            "\u001b[1m232/232\u001b[0m \u001b[32m━━━━━━━━━━━━━━━━━━━━\u001b[0m\u001b[37m\u001b[0m \u001b[1m28s\u001b[0m 119ms/step - f1-score: 0.6095 - iou_score: 0.5718 - loss: 0.5085 - val_f1-score: 0.5939 - val_iou_score: 0.5628 - val_loss: 0.5073\n",
            "Epoch 68/100\n",
            "\u001b[1m232/232\u001b[0m \u001b[32m━━━━━━━━━━━━━━━━━━━━\u001b[0m\u001b[37m\u001b[0m \u001b[1m28s\u001b[0m 119ms/step - f1-score: 0.6133 - iou_score: 0.5784 - loss: 0.5078 - val_f1-score: 0.5768 - val_iou_score: 0.5526 - val_loss: 0.5079\n",
            "Epoch 69/100\n",
            "\u001b[1m232/232\u001b[0m \u001b[32m━━━━━━━━━━━━━━━━━━━━\u001b[0m\u001b[37m\u001b[0m \u001b[1m27s\u001b[0m 118ms/step - f1-score: 0.6284 - iou_score: 0.5861 - loss: 0.5088 - val_f1-score: 0.5377 - val_iou_score: 0.5304 - val_loss: 0.5133\n",
            "Epoch 70/100\n",
            "\u001b[1m232/232\u001b[0m \u001b[32m━━━━━━━━━━━━━━━━━━━━\u001b[0m\u001b[37m\u001b[0m \u001b[1m28s\u001b[0m 119ms/step - f1-score: 0.6090 - iou_score: 0.5754 - loss: 0.5079 - val_f1-score: 0.5875 - val_iou_score: 0.5509 - val_loss: 0.5103\n",
            "Epoch 71/100\n",
            "\u001b[1m232/232\u001b[0m \u001b[32m━━━━━━━━━━━━━━━━━━━━\u001b[0m\u001b[37m\u001b[0m \u001b[1m28s\u001b[0m 119ms/step - f1-score: 0.6188 - iou_score: 0.5798 - loss: 0.5083 - val_f1-score: 0.5728 - val_iou_score: 0.5484 - val_loss: 0.5083\n",
            "Epoch 72/100\n",
            "\u001b[1m232/232\u001b[0m \u001b[32m━━━━━━━━━━━━━━━━━━━━\u001b[0m\u001b[37m\u001b[0m \u001b[1m27s\u001b[0m 118ms/step - f1-score: 0.6375 - iou_score: 0.5924 - loss: 0.5084 - val_f1-score: 0.5272 - val_iou_score: 0.5189 - val_loss: 0.5142\n",
            "Epoch 73/100\n",
            "\u001b[1m232/232\u001b[0m \u001b[32m━━━━━━━━━━━━━━━━━━━━\u001b[0m\u001b[37m\u001b[0m \u001b[1m28s\u001b[0m 118ms/step - f1-score: 0.6350 - iou_score: 0.5929 - loss: 0.5083 - val_f1-score: 0.5690 - val_iou_score: 0.5467 - val_loss: 0.5081\n",
            "Epoch 74/100\n",
            "\u001b[1m232/232\u001b[0m \u001b[32m━━━━━━━━━━━━━━━━━━━━\u001b[0m\u001b[37m\u001b[0m \u001b[1m28s\u001b[0m 119ms/step - f1-score: 0.6111 - iou_score: 0.5759 - loss: 0.5077 - val_f1-score: 0.6105 - val_iou_score: 0.5666 - val_loss: 0.5110\n",
            "Epoch 75/100\n",
            "\u001b[1m232/232\u001b[0m \u001b[32m━━━━━━━━━━━━━━━━━━━━\u001b[0m\u001b[37m\u001b[0m \u001b[1m28s\u001b[0m 119ms/step - f1-score: 0.6139 - iou_score: 0.5747 - loss: 0.5082 - val_f1-score: 0.5643 - val_iou_score: 0.5446 - val_loss: 0.5088\n",
            "Epoch 76/100\n",
            "\u001b[1m232/232\u001b[0m \u001b[32m━━━━━━━━━━━━━━━━━━━━\u001b[0m\u001b[37m\u001b[0m \u001b[1m28s\u001b[0m 118ms/step - f1-score: 0.6125 - iou_score: 0.5747 - loss: 0.5080 - val_f1-score: 0.6039 - val_iou_score: 0.5649 - val_loss: 0.5084\n",
            "Epoch 77/100\n",
            "\u001b[1m232/232\u001b[0m \u001b[32m━━━━━━━━━━━━━━━━━━━━\u001b[0m\u001b[37m\u001b[0m \u001b[1m28s\u001b[0m 119ms/step - f1-score: 0.6381 - iou_score: 0.5935 - loss: 0.5085 - val_f1-score: 0.5478 - val_iou_score: 0.5348 - val_loss: 0.5129\n",
            "Epoch 78/100\n",
            "\u001b[1m232/232\u001b[0m \u001b[32m━━━━━━━━━━━━━━━━━━━━\u001b[0m\u001b[37m\u001b[0m \u001b[1m27s\u001b[0m 118ms/step - f1-score: 0.6189 - iou_score: 0.5785 - loss: 0.5084 - val_f1-score: 0.2365 - val_iou_score: 0.1533 - val_loss: 0.7237\n",
            "Epoch 79/100\n",
            "\u001b[1m232/232\u001b[0m \u001b[32m━━━━━━━━━━━━━━━━━━━━\u001b[0m\u001b[37m\u001b[0m \u001b[1m27s\u001b[0m 118ms/step - f1-score: 0.6119 - iou_score: 0.5745 - loss: 0.5082 - val_f1-score: 0.5430 - val_iou_score: 0.5297 - val_loss: 0.5114\n",
            "Epoch 80/100\n",
            "\u001b[1m232/232\u001b[0m \u001b[32m━━━━━━━━━━━━━━━━━━━━\u001b[0m\u001b[37m\u001b[0m \u001b[1m27s\u001b[0m 118ms/step - f1-score: 0.6152 - iou_score: 0.5773 - loss: 0.5079 - val_f1-score: 0.5391 - val_iou_score: 0.5265 - val_loss: 0.5111\n",
            "Epoch 81/100\n",
            "\u001b[1m232/232\u001b[0m \u001b[32m━━━━━━━━━━━━━━━━━━━━\u001b[0m\u001b[37m\u001b[0m \u001b[1m28s\u001b[0m 119ms/step - f1-score: 0.6316 - iou_score: 0.5865 - loss: 0.5080 - val_f1-score: 0.5930 - val_iou_score: 0.5649 - val_loss: 0.5077\n",
            "Epoch 82/100\n",
            "\u001b[1m232/232\u001b[0m \u001b[32m━━━━━━━━━━━━━━━━━━━━\u001b[0m\u001b[37m\u001b[0m \u001b[1m27s\u001b[0m 118ms/step - f1-score: 0.6099 - iou_score: 0.5705 - loss: 0.5085 - val_f1-score: 0.5497 - val_iou_score: 0.5335 - val_loss: 0.5086\n",
            "Epoch 83/100\n",
            "\u001b[1m232/232\u001b[0m \u001b[32m━━━━━━━━━━━━━━━━━━━━\u001b[0m\u001b[37m\u001b[0m \u001b[1m28s\u001b[0m 119ms/step - f1-score: 0.6146 - iou_score: 0.5729 - loss: 0.5079 - val_f1-score: 0.3665 - val_iou_score: 0.2838 - val_loss: 0.6703\n",
            "Epoch 84/100\n",
            "\u001b[1m232/232\u001b[0m \u001b[32m━━━━━━━━━━━━━━━━━━━━\u001b[0m\u001b[37m\u001b[0m \u001b[1m28s\u001b[0m 119ms/step - f1-score: 0.6187 - iou_score: 0.5792 - loss: 0.5081 - val_f1-score: 0.5877 - val_iou_score: 0.5602 - val_loss: 0.5079\n",
            "Epoch 85/100\n",
            "\u001b[1m232/232\u001b[0m \u001b[32m━━━━━━━━━━━━━━━━━━━━\u001b[0m\u001b[37m\u001b[0m \u001b[1m27s\u001b[0m 118ms/step - f1-score: 0.6268 - iou_score: 0.5895 - loss: 0.5079 - val_f1-score: 0.5468 - val_iou_score: 0.5321 - val_loss: 0.5113\n",
            "Epoch 86/100\n",
            "\u001b[1m232/232\u001b[0m \u001b[32m━━━━━━━━━━━━━━━━━━━━\u001b[0m\u001b[37m\u001b[0m \u001b[1m28s\u001b[0m 119ms/step - f1-score: 0.6342 - iou_score: 0.5908 - loss: 0.5076 - val_f1-score: 0.5387 - val_iou_score: 0.5041 - val_loss: 0.5386\n",
            "Epoch 87/100\n",
            "\u001b[1m232/232\u001b[0m \u001b[32m━━━━━━━━━━━━━━━━━━━━\u001b[0m\u001b[37m\u001b[0m \u001b[1m28s\u001b[0m 119ms/step - f1-score: 0.6258 - iou_score: 0.5840 - loss: 0.5084 - val_f1-score: 0.6067 - val_iou_score: 0.5749 - val_loss: 0.5084\n",
            "Epoch 88/100\n",
            "\u001b[1m232/232\u001b[0m \u001b[32m━━━━━━━━━━━━━━━━━━━━\u001b[0m\u001b[37m\u001b[0m \u001b[1m27s\u001b[0m 118ms/step - f1-score: 0.6536 - iou_score: 0.6045 - loss: 0.5077 - val_f1-score: 0.5547 - val_iou_score: 0.5378 - val_loss: 0.5113\n",
            "Epoch 89/100\n",
            "\u001b[1m232/232\u001b[0m \u001b[32m━━━━━━━━━━━━━━━━━━━━\u001b[0m\u001b[37m\u001b[0m \u001b[1m27s\u001b[0m 118ms/step - f1-score: 0.6213 - iou_score: 0.5793 - loss: 0.5083 - val_f1-score: 0.5657 - val_iou_score: 0.5326 - val_loss: 0.5223\n",
            "Epoch 90/100\n",
            "\u001b[1m232/232\u001b[0m \u001b[32m━━━━━━━━━━━━━━━━━━━━\u001b[0m\u001b[37m\u001b[0m \u001b[1m28s\u001b[0m 119ms/step - f1-score: 0.6393 - iou_score: 0.5994 - loss: 0.5085 - val_f1-score: 0.5927 - val_iou_score: 0.5623 - val_loss: 0.5083\n",
            "Epoch 91/100\n",
            "\u001b[1m232/232\u001b[0m \u001b[32m━━━━━━━━━━━━━━━━━━━━\u001b[0m\u001b[37m\u001b[0m \u001b[1m27s\u001b[0m 118ms/step - f1-score: 0.6295 - iou_score: 0.5864 - loss: 0.5089 - val_f1-score: 0.5697 - val_iou_score: 0.5470 - val_loss: 0.5092\n",
            "Epoch 92/100\n",
            "\u001b[1m232/232\u001b[0m \u001b[32m━━━━━━━━━━━━━━━━━━━━\u001b[0m\u001b[37m\u001b[0m \u001b[1m28s\u001b[0m 119ms/step - f1-score: 0.6225 - iou_score: 0.5834 - loss: 0.5080 - val_f1-score: 0.5682 - val_iou_score: 0.5327 - val_loss: 0.5184\n",
            "Epoch 93/100\n",
            "\u001b[1m232/232\u001b[0m \u001b[32m━━━━━━━━━━━━━━━━━━━━\u001b[0m\u001b[37m\u001b[0m \u001b[1m28s\u001b[0m 119ms/step - f1-score: 0.6210 - iou_score: 0.5796 - loss: 0.5080 - val_f1-score: 0.6024 - val_iou_score: 0.5612 - val_loss: 0.5094\n",
            "Epoch 94/100\n",
            "\u001b[1m232/232\u001b[0m \u001b[32m━━━━━━━━━━━━━━━━━━━━\u001b[0m\u001b[37m\u001b[0m \u001b[1m28s\u001b[0m 119ms/step - f1-score: 0.6236 - iou_score: 0.5826 - loss: 0.5080 - val_f1-score: 0.5770 - val_iou_score: 0.5346 - val_loss: 0.5206\n",
            "Epoch 95/100\n",
            "\u001b[1m232/232\u001b[0m \u001b[32m━━━━━━━━━━━━━━━━━━━━\u001b[0m\u001b[37m\u001b[0m \u001b[1m28s\u001b[0m 118ms/step - f1-score: 0.6343 - iou_score: 0.5879 - loss: 0.5087 - val_f1-score: 0.5994 - val_iou_score: 0.5535 - val_loss: 0.5167\n",
            "Epoch 96/100\n",
            "\u001b[1m232/232\u001b[0m \u001b[32m━━━━━━━━━━━━━━━━━━━━\u001b[0m\u001b[37m\u001b[0m \u001b[1m28s\u001b[0m 119ms/step - f1-score: 0.6536 - iou_score: 0.6089 - loss: 0.5074 - val_f1-score: 0.5682 - val_iou_score: 0.5449 - val_loss: 0.5100\n",
            "Epoch 97/100\n",
            "\u001b[1m232/232\u001b[0m \u001b[32m━━━━━━━━━━━━━━━━━━━━\u001b[0m\u001b[37m\u001b[0m \u001b[1m27s\u001b[0m 118ms/step - f1-score: 0.6358 - iou_score: 0.5885 - loss: 0.5076 - val_f1-score: 0.3723 - val_iou_score: 0.2910 - val_loss: 0.6585\n",
            "Epoch 98/100\n",
            "\u001b[1m232/232\u001b[0m \u001b[32m━━━━━━━━━━━━━━━━━━━━\u001b[0m\u001b[37m\u001b[0m \u001b[1m27s\u001b[0m 118ms/step - f1-score: 0.6413 - iou_score: 0.5946 - loss: 0.5078 - val_f1-score: 0.5596 - val_iou_score: 0.5233 - val_loss: 0.5262\n",
            "Epoch 99/100\n",
            "\u001b[1m232/232\u001b[0m \u001b[32m━━━━━━━━━━━━━━━━━━━━\u001b[0m\u001b[37m\u001b[0m \u001b[1m28s\u001b[0m 119ms/step - f1-score: 0.6139 - iou_score: 0.5720 - loss: 0.5087 - val_f1-score: 0.5793 - val_iou_score: 0.5555 - val_loss: 0.5091\n",
            "Epoch 100/100\n",
            "\u001b[1m232/232\u001b[0m \u001b[32m━━━━━━━━━━━━━━━━━━━━\u001b[0m\u001b[37m\u001b[0m \u001b[1m28s\u001b[0m 118ms/step - f1-score: 0.6396 - iou_score: 0.5906 - loss: 0.5083 - val_f1-score: 0.5880 - val_iou_score: 0.5617 - val_loss: 0.5100\n"
          ]
        }
      ],
      "source": [
        "#Fit the model\n",
        "history=model.fit(X_train_prep,\n",
        "          Y_train,\n",
        "          batch_size=8,\n",
        "          epochs=100,\n",
        "          verbose=1,\n",
        "          validation_data=(X_test_prep, Y_test))"
      ]
    },
    {
      "cell_type": "markdown",
      "metadata": {
        "id": "whtF9V1npJ8s"
      },
      "source": []
    },
    {
      "cell_type": "code",
      "execution_count": null,
      "metadata": {
        "id": "LVTe3TrrE6DS",
        "outputId": "cf804bed-942f-40ec-8fa5-9d896366ed80",
        "colab": {
          "base_uri": "https://localhost:8080/"
        }
      },
      "outputs": [
        {
          "output_type": "stream",
          "name": "stderr",
          "text": [
            "WARNING:absl:You are saving your model as an HDF5 file via `model.save()` or `keras.saving.save_model(model)`. This file format is considered legacy. We recommend using instead the native Keras format, e.g. `model.save('my_model.keras')` or `keras.saving.save_model(model, 'my_model.keras')`. \n"
          ]
        }
      ],
      "source": [
        "# Save model for future use\n",
        "model.save('/content/drive/MyDrive/3D_model_vgg16_100epochs_adjusted_wheights.h5')"
      ]
    },
    {
      "cell_type": "code",
      "execution_count": null,
      "metadata": {
        "colab": {
          "base_uri": "https://localhost:8080/",
          "height": 927
        },
        "id": "5Nk4OFMzAoLk",
        "outputId": "e32ba540-1a40-49d2-c2a6-ed5da7d56e24"
      },
      "outputs": [
        {
          "output_type": "display_data",
          "data": {
            "text/plain": [
              "<Figure size 640x480 with 1 Axes>"
            ],
            "image/png": "[encoded data removed]"
          },
          "metadata": {}
        },
        {
          "output_type": "display_data",
          "data": {
            "text/plain": [
              "<Figure size 640x480 with 1 Axes>"
            ],
            "image/png": "[encoded data removed]"
          },
          "metadata": {}
        }
      ],
      "source": [
        "###\n",
        "#plot the training and validation IoU and loss at each epoch\n",
        "loss = history.history['loss']\n",
        "val_loss = history.history['val_loss']\n",
        "epochs = range(1, len(loss) + 1)\n",
        "plt.plot(epochs, loss, 'y', label='Training loss')\n",
        "plt.plot(epochs, val_loss, 'r', label='Validation loss')\n",
        "plt.title('Training and validation loss')\n",
        "plt.xlabel('Epochs')\n",
        "plt.ylabel('Loss')\n",
        "plt.legend()\n",
        "plt.show()\n",
        "\n",
        "acc = history.history['iou_score']\n",
        "val_acc = history.history['val_iou_score']\n",
        "\n",
        "plt.plot(epochs, acc, 'y', label='Training IOU')\n",
        "plt.plot(epochs, val_acc, 'r', label='Validation IOU')\n",
        "plt.title('Training and validation IOU')\n",
        "plt.xlabel('Epochs')\n",
        "plt.ylabel('IOU')\n",
        "plt.legend()\n",
        "plt.show()"
      ]
    },
    {
      "cell_type": "code",
      "execution_count": null,
      "metadata": {
        "id": "lwjlR25nF54w"
      },
      "outputs": [],
      "source": [
        "#Load the pretrained model for testing and predictions.\n",
        "from keras.models import load_model\n",
        "my_model = load_model('model_data/ISPY1_1221/3D_model_vgg16_100epochs.h5', compile=False)\n",
        "#If you load a different model do not forget to preprocess accordingly."
      ]
    },
    {
      "cell_type": "code",
      "execution_count": null,
      "metadata": {
        "id": "kTAQpcUQA7SN"
      },
      "outputs": [],
      "source": [
        "#Predict on the test data\n",
        "y_pred=my_model.predict(X_test)\n",
        "y_pred_argmax=np.argmax(y_pred, axis=4)\n",
        "y_test_argmax = np.argmax(y_test, axis=4)\n"
      ]
    },
    {
      "cell_type": "code",
      "execution_count": null,
      "metadata": {
        "id": "FjHYiOqYBifK"
      },
      "outputs": [],
      "source": [
        "print(y_pred_argmax.shape)\n",
        "print(y_test_argmax.shape)\n",
        "print(np.unique(y_pred_argmax))"
      ]
    },
    {
      "cell_type": "code",
      "execution_count": null,
      "metadata": {
        "id": "3lv4EhPCHsrz"
      },
      "outputs": [],
      "source": [
        "#Using built in keras function for IoU\n",
        "#Only works on TF > 2.0\n",
        "#from keras.metrics import MeanIoU\n",
        "#from keras.metrics import MeanIoU\n",
        "#n_classes = 4\n",
        "#IOU_keras = MeanIoU(num_classes=n_classes)\n",
        "#IOU_keras.update_state(y_test_argmax, y_pred_argmax)\n",
        "#print(\"Mean IoU =\", IOU_keras.result().numpy())"
      ]
    },
    {
      "cell_type": "code",
      "execution_count": null,
      "metadata": {
        "id": "BPcRSfobCBrE"
      },
      "outputs": [],
      "source": [
        "#Test some random images\n",
        "import random\n",
        "test_img_number = random.randint(0, len(X_test))\n",
        "print(len(X_test))\n",
        "test_img = X_test[test_img_number]\n",
        "ground_truth=y_test[test_img_number]\n",
        "\n",
        "test_img_input=np.expand_dims(test_img, 0)\n",
        "test_img_input1 = actual_preprocess_function(test_img_input)\n",
        "\n",
        "test_pred1 = my_model.predict(test_img_input1)\n",
        "test_prediction1 = np.argmax(test_pred1, axis=4)[0,:,:,:]\n",
        "print(test_prediction1.shape)\n",
        "\n",
        "\n"
      ]
    },
    {
      "cell_type": "code",
      "execution_count": null,
      "metadata": {
        "id": "KGQr-RxdFYuF"
      },
      "outputs": [],
      "source": [
        "ground_truth_argmax = np.argmax(ground_truth, axis=3)\n",
        "print(test_img.shape)"
      ]
    },
    {
      "cell_type": "code",
      "execution_count": null,
      "metadata": {
        "id": "7W9XsGK7FMuN"
      },
      "outputs": [],
      "source": [
        "#Plot individual slices from test predictions for verification\n",
        "slice = 14\n",
        "plt.figure(figsize=(12, 8))\n",
        "plt.subplot(231)\n",
        "plt.title('Testing Image')\n",
        "plt.imshow(test_img[slice,:,:,0], cmap='gray')\n",
        "plt.subplot(232)\n",
        "plt.title('Testing Label')\n",
        "plt.imshow(ground_truth_argmax[slice,:,:])\n",
        "plt.subplot(233)\n",
        "plt.title('Prediction on test image')\n",
        "plt.imshow(test_prediction1[slice,:,:])\n",
        "plt.show()"
      ]
    },
    {
      "cell_type": "markdown",
      "metadata": {
        "id": "CNi7_zeC7SmG"
      },
      "source": [
        "Now segment the full volume using the trained model."
      ]
    },
    {
      "cell_type": "code",
      "execution_count": null,
      "metadata": {
        "id": "C1eYttiN7tH4"
      },
      "outputs": [],
      "source": [
        "#Break the large image (volume) into patches of same size as the training images (patches)\n",
        "large_image = nib.load('ISPY1_1002/ISPY1_1002_image.nii.gz').get_fdata()\n",
        "patches = patchify(large_image, (64, 64, 64), step=64)\n",
        "print(large_image.shape)\n",
        "print(patches.shape)"
      ]
    },
    {
      "cell_type": "code",
      "execution_count": null,
      "metadata": {
        "id": "G6KXGtea89wi"
      },
      "outputs": [],
      "source": [
        "# Predict each 3D patch\n",
        "predicted_patches = []\n",
        "for i in range(patches.shape[0]):\n",
        "  for j in range(patches.shape[1]):\n",
        "    for k in range(patches.shape[2]):\n",
        "      #print(i,j,k)\n",
        "      single_patch = patches[i,j,k, :,:,:]\n",
        "      single_patch_3ch = np.stack((single_patch,)*3, axis=-1)\n",
        "      single_patch_3ch_input = actual_preprocess_function(np.expand_dims(single_patch_3ch, axis=0))\n",
        "      single_patch_prediction = my_model.predict(single_patch_3ch_input)\n",
        "      single_patch_prediction_argmax = np.argmax(single_patch_prediction, axis=4)[0,:,:,:]\n",
        "      predicted_patches.append(single_patch_prediction_argmax)\n",
        "\n"
      ]
    },
    {
      "cell_type": "code",
      "execution_count": null,
      "metadata": {
        "id": "yxX9vrPMAvK2"
      },
      "outputs": [],
      "source": [
        "#Convert list to numpy array\n",
        "predicted_patches = np.array(predicted_patches)\n",
        "print(predicted_patches.shape)"
      ]
    },
    {
      "cell_type": "code",
      "execution_count": null,
      "metadata": {
        "id": "qYQi_STcA6gw"
      },
      "outputs": [],
      "source": [
        "#Reshape to the shape we had after patchifying\n",
        "predicted_patches_reshaped = np.reshape(predicted_patches,\n",
        "                                        (patches.shape[0], patches.shape[1], patches.shape[2],\n",
        "                                         patches.shape[3], patches.shape[4], patches.shape[5]) )\n",
        "print(predicted_patches_reshaped.shape)"
      ]
    },
    {
      "cell_type": "code",
      "execution_count": null,
      "metadata": {
        "id": "SQcYSuaeBP2i"
      },
      "outputs": [],
      "source": [
        "#Repach individual patches into the orginal volume shape\n",
        "reconstructed_image = unpatchify(predicted_patches_reshaped, large_image.shape)\n",
        "print(reconstructed_image.shape)"
      ]
    },
    {
      "cell_type": "code",
      "execution_count": null,
      "metadata": {
        "id": "rFF2FwCGDR1A"
      },
      "outputs": [],
      "source": [
        "print(reconstructed_image.dtype)"
      ]
    }
  ],
  "metadata": {
    "accelerator": "GPU",
    "colab": {
      "provenance": [],
      "machine_shape": "hm",
      "gpuType": "A100"
    },
    "kernelspec": {
      "display_name": "Python 3",
      "name": "python3"
    },
    "language_info": {
      "codemirror_mode": {
        "name": "ipython",
        "version": 3
      },
      "file_extension": ".py",
      "mimetype": "text/x-python",
      "name": "python",
      "nbconvert_exporter": "python",
      "pygments_lexer": "ipython3",
      "version": "3.12.9"
    }
  },
  "nbformat": 4,
  "nbformat_minor": 0
}